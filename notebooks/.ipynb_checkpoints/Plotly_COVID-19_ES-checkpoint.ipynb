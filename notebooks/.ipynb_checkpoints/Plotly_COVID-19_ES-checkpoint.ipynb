{
 "cells": [
  {
   "cell_type": "markdown",
   "metadata": {},
   "source": [
    "# Tratamento dos Dados"
   ]
  },
  {
   "cell_type": "code",
   "execution_count": 4,
   "metadata": {},
   "outputs": [],
   "source": [
    "import pandas as pd"
   ]
  },
  {
   "cell_type": "code",
   "execution_count": 5,
   "metadata": {},
   "outputs": [
    {
     "data": {
      "text/html": [
       "<div>\n",
       "<style scoped>\n",
       "    .dataframe tbody tr th:only-of-type {\n",
       "        vertical-align: middle;\n",
       "    }\n",
       "\n",
       "    .dataframe tbody tr th {\n",
       "        vertical-align: top;\n",
       "    }\n",
       "\n",
       "    .dataframe thead th {\n",
       "        text-align: right;\n",
       "    }\n",
       "</style>\n",
       "<table border=\"1\" class=\"dataframe\">\n",
       "  <thead>\n",
       "    <tr style=\"text-align: right;\">\n",
       "      <th></th>\n",
       "      <th>DataNotificacao</th>\n",
       "      <th>DataCadastro</th>\n",
       "      <th>DataDiagnostico</th>\n",
       "      <th>DataColeta_RT_PCR</th>\n",
       "      <th>DataColetaTesteRapido</th>\n",
       "      <th>DataColetaSorologia</th>\n",
       "      <th>DataColetaSorologiaIGG</th>\n",
       "      <th>DataEncerramento</th>\n",
       "      <th>DataObito</th>\n",
       "      <th>Classificacao</th>\n",
       "      <th>...</th>\n",
       "      <th>FicouInternado</th>\n",
       "      <th>ViagemBrasil</th>\n",
       "      <th>ViagemInternacional</th>\n",
       "      <th>ProfissionalSaude</th>\n",
       "      <th>PossuiDeficiencia</th>\n",
       "      <th>MoradorDeRua</th>\n",
       "      <th>ResultadoRT_PCR</th>\n",
       "      <th>ResultadoTesteRapido</th>\n",
       "      <th>ResultadoSorologia</th>\n",
       "      <th>ResultadoSorologia_IGG</th>\n",
       "    </tr>\n",
       "  </thead>\n",
       "  <tbody>\n",
       "    <tr>\n",
       "      <th>0</th>\n",
       "      <td>2020-10-31</td>\n",
       "      <td>2020-10-31</td>\n",
       "      <td>2020-10-30</td>\n",
       "      <td>NaN</td>\n",
       "      <td>NaN</td>\n",
       "      <td>NaN</td>\n",
       "      <td>NaN</td>\n",
       "      <td>NaN</td>\n",
       "      <td>NaN</td>\n",
       "      <td>Suspeito</td>\n",
       "      <td>...</td>\n",
       "      <td>Não</td>\n",
       "      <td>Não</td>\n",
       "      <td>Não</td>\n",
       "      <td>Não</td>\n",
       "      <td>Não</td>\n",
       "      <td>Não</td>\n",
       "      <td>Não Informado</td>\n",
       "      <td>Não Informado</td>\n",
       "      <td>Não Informado</td>\n",
       "      <td>Não Informado</td>\n",
       "    </tr>\n",
       "    <tr>\n",
       "      <th>1</th>\n",
       "      <td>2020-10-31</td>\n",
       "      <td>2020-10-31</td>\n",
       "      <td>2020-10-13</td>\n",
       "      <td>2020-10-20</td>\n",
       "      <td>NaN</td>\n",
       "      <td>NaN</td>\n",
       "      <td>NaN</td>\n",
       "      <td>NaN</td>\n",
       "      <td>NaN</td>\n",
       "      <td>Descartados</td>\n",
       "      <td>...</td>\n",
       "      <td>Não Informado</td>\n",
       "      <td>Não</td>\n",
       "      <td>Não</td>\n",
       "      <td>Não</td>\n",
       "      <td>Não</td>\n",
       "      <td>Não</td>\n",
       "      <td>Negativo</td>\n",
       "      <td>Não Informado</td>\n",
       "      <td>Não Informado</td>\n",
       "      <td>Não Informado</td>\n",
       "    </tr>\n",
       "    <tr>\n",
       "      <th>2</th>\n",
       "      <td>2020-10-31</td>\n",
       "      <td>2020-10-31</td>\n",
       "      <td>2020-10-24</td>\n",
       "      <td>NaN</td>\n",
       "      <td>NaN</td>\n",
       "      <td>NaN</td>\n",
       "      <td>NaN</td>\n",
       "      <td>NaN</td>\n",
       "      <td>NaN</td>\n",
       "      <td>Suspeito</td>\n",
       "      <td>...</td>\n",
       "      <td>Não Informado</td>\n",
       "      <td>Não Informado</td>\n",
       "      <td>Não Informado</td>\n",
       "      <td>Não</td>\n",
       "      <td>Não</td>\n",
       "      <td>Não</td>\n",
       "      <td>Não Informado</td>\n",
       "      <td>Não Informado</td>\n",
       "      <td>Não Informado</td>\n",
       "      <td>Não Informado</td>\n",
       "    </tr>\n",
       "    <tr>\n",
       "      <th>3</th>\n",
       "      <td>2020-10-31</td>\n",
       "      <td>2020-10-31</td>\n",
       "      <td>2020-10-25</td>\n",
       "      <td>NaN</td>\n",
       "      <td>NaN</td>\n",
       "      <td>NaN</td>\n",
       "      <td>NaN</td>\n",
       "      <td>NaN</td>\n",
       "      <td>NaN</td>\n",
       "      <td>Suspeito</td>\n",
       "      <td>...</td>\n",
       "      <td>Não</td>\n",
       "      <td>Não</td>\n",
       "      <td>Não</td>\n",
       "      <td>Não</td>\n",
       "      <td>Não</td>\n",
       "      <td>Não</td>\n",
       "      <td>Não Informado</td>\n",
       "      <td>Não Informado</td>\n",
       "      <td>Não Informado</td>\n",
       "      <td>Não Informado</td>\n",
       "    </tr>\n",
       "    <tr>\n",
       "      <th>4</th>\n",
       "      <td>2020-10-31</td>\n",
       "      <td>2020-10-31</td>\n",
       "      <td>2020-10-25</td>\n",
       "      <td>2020-10-31</td>\n",
       "      <td>NaN</td>\n",
       "      <td>NaN</td>\n",
       "      <td>NaN</td>\n",
       "      <td>NaN</td>\n",
       "      <td>NaN</td>\n",
       "      <td>Suspeito</td>\n",
       "      <td>...</td>\n",
       "      <td>Não</td>\n",
       "      <td>Não</td>\n",
       "      <td>Não</td>\n",
       "      <td>Não</td>\n",
       "      <td>Não</td>\n",
       "      <td>Não</td>\n",
       "      <td>Não Informado</td>\n",
       "      <td>Não Informado</td>\n",
       "      <td>Não Informado</td>\n",
       "      <td>Não Informado</td>\n",
       "    </tr>\n",
       "  </tbody>\n",
       "</table>\n",
       "<p>5 rows × 43 columns</p>\n",
       "</div>"
      ],
      "text/plain": [
       "  DataNotificacao DataCadastro DataDiagnostico DataColeta_RT_PCR  \\\n",
       "0      2020-10-31   2020-10-31      2020-10-30               NaN   \n",
       "1      2020-10-31   2020-10-31      2020-10-13        2020-10-20   \n",
       "2      2020-10-31   2020-10-31      2020-10-24               NaN   \n",
       "3      2020-10-31   2020-10-31      2020-10-25               NaN   \n",
       "4      2020-10-31   2020-10-31      2020-10-25        2020-10-31   \n",
       "\n",
       "  DataColetaTesteRapido DataColetaSorologia DataColetaSorologiaIGG  \\\n",
       "0                   NaN                 NaN                    NaN   \n",
       "1                   NaN                 NaN                    NaN   \n",
       "2                   NaN                 NaN                    NaN   \n",
       "3                   NaN                 NaN                    NaN   \n",
       "4                   NaN                 NaN                    NaN   \n",
       "\n",
       "  DataEncerramento DataObito Classificacao  ... FicouInternado   ViagemBrasil  \\\n",
       "0              NaN       NaN      Suspeito  ...            Não            Não   \n",
       "1              NaN       NaN   Descartados  ...  Não Informado            Não   \n",
       "2              NaN       NaN      Suspeito  ...  Não Informado  Não Informado   \n",
       "3              NaN       NaN      Suspeito  ...            Não            Não   \n",
       "4              NaN       NaN      Suspeito  ...            Não            Não   \n",
       "\n",
       "  ViagemInternacional ProfissionalSaude PossuiDeficiencia MoradorDeRua  \\\n",
       "0                 Não               Não               Não          Não   \n",
       "1                 Não               Não               Não          Não   \n",
       "2       Não Informado               Não               Não          Não   \n",
       "3                 Não               Não               Não          Não   \n",
       "4                 Não               Não               Não          Não   \n",
       "\n",
       "  ResultadoRT_PCR ResultadoTesteRapido ResultadoSorologia  \\\n",
       "0   Não Informado        Não Informado      Não Informado   \n",
       "1        Negativo        Não Informado      Não Informado   \n",
       "2   Não Informado        Não Informado      Não Informado   \n",
       "3   Não Informado        Não Informado      Não Informado   \n",
       "4   Não Informado        Não Informado      Não Informado   \n",
       "\n",
       "  ResultadoSorologia_IGG  \n",
       "0          Não Informado  \n",
       "1          Não Informado  \n",
       "2          Não Informado  \n",
       "3          Não Informado  \n",
       "4          Não Informado  \n",
       "\n",
       "[5 rows x 43 columns]"
      ]
     },
     "execution_count": 5,
     "metadata": {},
     "output_type": "execute_result"
    }
   ],
   "source": [
    "df = pd.read_csv('../source/MICRODADOS_20201101.csv', sep = ';', encoding = 'cp1252')\n",
    "df.head()"
   ]
  },
  {
   "cell_type": "code",
   "execution_count": 6,
   "metadata": {},
   "outputs": [
    {
     "name": "stdout",
     "output_type": "stream",
     "text": [
      "Classificacão: ['Suspeito' 'Descartados' 'Confirmados']\n",
      "Evolução: ['-' 'Ignorado' 'Cura' 'Óbito pelo COVID-19' 'Óbito por outras causas']\n"
     ]
    }
   ],
   "source": [
    "print('Classificacão: {}'.format(df['Classificacao'].unique()))\n",
    "print('Evolução: {}'.format(df['Evolucao'].unique()))"
   ]
  },
  {
   "cell_type": "code",
   "execution_count": 7,
   "metadata": {},
   "outputs": [
    {
     "name": "stdout",
     "output_type": "stream",
     "text": [
      "TOTAIS\n",
      "=================\n",
      "  - CASOS: 155721\n",
      "  - ÓBITOS: 3855 (2.5%)\n",
      "  - CURA: 145951 (93.7%)\n"
     ]
    }
   ],
   "source": [
    "total_casos = df.query('Classificacao == \"Confirmados\"').shape[0]\n",
    "total_obitos = df.query('Evolucao == \"Óbito pelo COVID-19\"').shape[0]\n",
    "total_curas = df.query('Evolucao == \"Cura\"').shape[0]\n",
    "\n",
    "print('TOTAIS')\n",
    "print('=================')\n",
    "print('  - CASOS: {}'.format(total_casos))\n",
    "print('  - ÓBITOS: {} ({}%)'.format(total_obitos, round((total_obitos * 100) / total_casos, 1)))\n",
    "print('  - CURA: {} ({}%)'.format(total_curas, round((total_curas * 100) / total_casos, 1)))"
   ]
  },
  {
   "cell_type": "code",
   "execution_count": 8,
   "metadata": {},
   "outputs": [],
   "source": [
    "df['DataNotificacao'] = pd.to_datetime(df['DataNotificacao'])\n",
    "df.sort_values('DataNotificacao', inplace=True)\n",
    "df = df.query('Classificacao == \"Confirmados\"').reset_index(drop=True)"
   ]
  },
  {
   "cell_type": "markdown",
   "metadata": {},
   "source": [
    "## Cálculo de Confirmados"
   ]
  },
  {
   "cell_type": "code",
   "execution_count": 9,
   "metadata": {
    "scrolled": true
   },
   "outputs": [],
   "source": [
    "df['ConfirmadosAcumulado'] = df[['Municipio', 'Bairro', 'DataNotificacao']]\\\n",
    "    .groupby(['Municipio', 'Bairro'])\\\n",
    "    .cumcount() + 1\n",
    "\n",
    "df['Confirmados'] = df[['Municipio', 'Bairro', 'DataNotificacao']]\\\n",
    "    .groupby(['Municipio', 'Bairro', 'DataNotificacao'])\\\n",
    "    .cumcount() + 1"
   ]
  },
  {
   "cell_type": "markdown",
   "metadata": {},
   "source": [
    "## Cálculo de Óbitos"
   ]
  },
  {
   "cell_type": "code",
   "execution_count": 10,
   "metadata": {},
   "outputs": [],
   "source": [
    "df['Obitos'] = df['Evolucao'].apply(lambda evolucao: 1 if evolucao == 'Óbito pelo COVID-19' else 0)\n",
    "\n",
    "df['ObitosAcumulado'] = df[['Municipio', 'Bairro', 'DataNotificacao', 'Obitos']]\\\n",
    "    .groupby(['Municipio', 'Bairro'])\\\n",
    "    .cumsum() + 1\n",
    "\n",
    "df['Obitos'] = df[['Municipio', 'Bairro', 'DataNotificacao', 'Obitos']]\\\n",
    "    .groupby(['Municipio', 'Bairro', 'DataNotificacao'])\\\n",
    "    .cumsum() + 1"
   ]
  },
  {
   "cell_type": "markdown",
   "metadata": {},
   "source": [
    "## Cálculo de Curas"
   ]
  },
  {
   "cell_type": "code",
   "execution_count": 11,
   "metadata": {},
   "outputs": [],
   "source": [
    "df['Curas'] = df['Evolucao'].apply(lambda evolucao: 1 if evolucao == 'Cura' else 0)\n",
    "\n",
    "df['CurasAcumulado'] = df[['Municipio', 'Bairro', 'DataNotificacao', 'Curas']]\\\n",
    "    .groupby(['Municipio', 'Bairro'])\\\n",
    "    .cumsum() + 1\n",
    "\n",
    "df['Curas'] = df[['Municipio', 'Bairro', 'DataNotificacao', 'Curas']]\\\n",
    "    .groupby(['Municipio', 'Bairro', 'DataNotificacao'])\\\n",
    "    .cumsum() + 1"
   ]
  },
  {
   "cell_type": "markdown",
   "metadata": {},
   "source": [
    "## Contagem de Casos, Óbitos e Curas"
   ]
  },
  {
   "cell_type": "code",
   "execution_count": 12,
   "metadata": {},
   "outputs": [],
   "source": [
    "grupo_base = ['DataNotificacao', 'Municipio', 'Bairro']\n",
    "\n",
    "datas = df[['DataNotificacao']].drop_duplicates().reset_index(drop=True)\n",
    "municipios_bairros = df[['Municipio', 'Bairro']].drop_duplicates().reset_index(drop=True)\n",
    "\n",
    "datas['key'] = 0\n",
    "municipios_bairros['key'] = 0"
   ]
  },
  {
   "cell_type": "code",
   "execution_count": 13,
   "metadata": {},
   "outputs": [],
   "source": [
    "df_counts = pd.merge(datas, municipios_bairros, how='outer')[grupo_base]\n",
    "\n",
    "df_counts = df_counts.merge(\n",
    "    df[[\n",
    "        'Municipio',\n",
    "        'Bairro',\n",
    "        'DataNotificacao',\n",
    "        'Confirmados',\n",
    "        'Obitos',\n",
    "        'Curas',\n",
    "        'ConfirmadosAcumulado',\n",
    "        'ObitosAcumulado',\n",
    "        'CurasAcumulado'\n",
    "    ]].drop_duplicates(grupo_base, keep='last')\\\n",
    "        .dropna(),\n",
    "    on=grupo_base,\n",
    "    how='left'\n",
    ")\n",
    "\n",
    "df_counts.fillna({\n",
    "    'Confirmados': 0,\n",
    "    'Obitos': 0,\n",
    "    'Curas': 0,\n",
    "})\n",
    "\n",
    "columns_ffill = ['ConfirmadosAcumulado', 'ObitosAcumulado', 'CurasAcumulado']\n",
    "\n",
    "df_counts[columns_ffill] = df_counts.groupby(['Municipio', 'Bairro'])\\\n",
    "    .fillna(method='ffill')\\\n",
    "    .fillna(0)\\\n",
    "    [columns_ffill]"
   ]
  },
  {
   "cell_type": "code",
   "execution_count": 14,
   "metadata": {
    "scrolled": true
   },
   "outputs": [
    {
     "data": {
      "text/html": [
       "<div>\n",
       "<style scoped>\n",
       "    .dataframe tbody tr th:only-of-type {\n",
       "        vertical-align: middle;\n",
       "    }\n",
       "\n",
       "    .dataframe tbody tr th {\n",
       "        vertical-align: top;\n",
       "    }\n",
       "\n",
       "    .dataframe thead th {\n",
       "        text-align: right;\n",
       "    }\n",
       "</style>\n",
       "<table border=\"1\" class=\"dataframe\">\n",
       "  <thead>\n",
       "    <tr style=\"text-align: right;\">\n",
       "      <th></th>\n",
       "      <th>DataNotificacao</th>\n",
       "      <th>Municipio</th>\n",
       "      <th>Bairro</th>\n",
       "      <th>Confirmados</th>\n",
       "      <th>Obitos</th>\n",
       "      <th>Curas</th>\n",
       "      <th>ConfirmadosAcumulado</th>\n",
       "      <th>ObitosAcumulado</th>\n",
       "      <th>CurasAcumulado</th>\n",
       "    </tr>\n",
       "  </thead>\n",
       "  <tbody>\n",
       "    <tr>\n",
       "      <th>0</th>\n",
       "      <td>2020-02-29</td>\n",
       "      <td>VILA VELHA</td>\n",
       "      <td>ITAPUÃ</td>\n",
       "      <td>1.0</td>\n",
       "      <td>1.0</td>\n",
       "      <td>2.0</td>\n",
       "      <td>1.0</td>\n",
       "      <td>1.0</td>\n",
       "      <td>2.0</td>\n",
       "    </tr>\n",
       "    <tr>\n",
       "      <th>1</th>\n",
       "      <td>2020-02-29</td>\n",
       "      <td>VILA VELHA</td>\n",
       "      <td>PRAIA DE ITAPARICA</td>\n",
       "      <td>NaN</td>\n",
       "      <td>NaN</td>\n",
       "      <td>NaN</td>\n",
       "      <td>0.0</td>\n",
       "      <td>0.0</td>\n",
       "      <td>0.0</td>\n",
       "    </tr>\n",
       "    <tr>\n",
       "      <th>2</th>\n",
       "      <td>2020-02-29</td>\n",
       "      <td>VITORIA</td>\n",
       "      <td>JARDIM DA PENHA</td>\n",
       "      <td>NaN</td>\n",
       "      <td>NaN</td>\n",
       "      <td>NaN</td>\n",
       "      <td>0.0</td>\n",
       "      <td>0.0</td>\n",
       "      <td>0.0</td>\n",
       "    </tr>\n",
       "    <tr>\n",
       "      <th>3</th>\n",
       "      <td>2020-02-29</td>\n",
       "      <td>LINHARES</td>\n",
       "      <td>INTERLAGOS</td>\n",
       "      <td>NaN</td>\n",
       "      <td>NaN</td>\n",
       "      <td>NaN</td>\n",
       "      <td>0.0</td>\n",
       "      <td>0.0</td>\n",
       "      <td>0.0</td>\n",
       "    </tr>\n",
       "    <tr>\n",
       "      <th>4</th>\n",
       "      <td>2020-02-29</td>\n",
       "      <td>VILA VELHA</td>\n",
       "      <td>PRAIA DAS GAIVOTAS</td>\n",
       "      <td>NaN</td>\n",
       "      <td>NaN</td>\n",
       "      <td>NaN</td>\n",
       "      <td>0.0</td>\n",
       "      <td>0.0</td>\n",
       "      <td>0.0</td>\n",
       "    </tr>\n",
       "  </tbody>\n",
       "</table>\n",
       "</div>"
      ],
      "text/plain": [
       "  DataNotificacao   Municipio              Bairro  Confirmados  Obitos  Curas  \\\n",
       "0      2020-02-29  VILA VELHA              ITAPUÃ          1.0     1.0    2.0   \n",
       "1      2020-02-29  VILA VELHA  PRAIA DE ITAPARICA          NaN     NaN    NaN   \n",
       "2      2020-02-29     VITORIA     JARDIM DA PENHA          NaN     NaN    NaN   \n",
       "3      2020-02-29    LINHARES          INTERLAGOS          NaN     NaN    NaN   \n",
       "4      2020-02-29  VILA VELHA  PRAIA DAS GAIVOTAS          NaN     NaN    NaN   \n",
       "\n",
       "   ConfirmadosAcumulado  ObitosAcumulado  CurasAcumulado  \n",
       "0                   1.0              1.0             2.0  \n",
       "1                   0.0              0.0             0.0  \n",
       "2                   0.0              0.0             0.0  \n",
       "3                   0.0              0.0             0.0  \n",
       "4                   0.0              0.0             0.0  "
      ]
     },
     "execution_count": 14,
     "metadata": {},
     "output_type": "execute_result"
    }
   ],
   "source": [
    "df_counts.head()"
   ]
  },
  {
   "cell_type": "code",
   "execution_count": 15,
   "metadata": {},
   "outputs": [
    {
     "data": {
      "text/plain": [
       "array(['ITAPUÃ', 'PRAIA DE ITAPARICA', 'JARDIM DA PENHA', ...,\n",
       "       'CÓRREGO SANTA ROSA DO MUNIZ', 'SANTA LUZIA PICADÃO',\n",
       "       'SÃO DALMÁCIO'], dtype=object)"
      ]
     },
     "execution_count": 15,
     "metadata": {},
     "output_type": "execute_result"
    }
   ],
   "source": [
    "df_counts['Bairro'].unique()"
   ]
  },
  {
   "cell_type": "code",
   "execution_count": 16,
   "metadata": {},
   "outputs": [],
   "source": [
    "from unidecode import unidecode"
   ]
  },
  {
   "cell_type": "code",
   "execution_count": 17,
   "metadata": {},
   "outputs": [],
   "source": [
    "df_counts['Municipio'] = df_counts['Municipio'].apply(lambda x: unidecode(str(x)).upper())\n",
    "df_counts['Bairro'] = df_counts['Bairro'].apply(lambda x: unidecode(str(x)).upper())"
   ]
  },
  {
   "cell_type": "code",
   "execution_count": 19,
   "metadata": {},
   "outputs": [],
   "source": [
    "df_counts.to_csv('../notebooks_output/microdados_pre-processed.csv', sep=',', index=False, encoding='UTF-8')"
   ]
  },
  {
   "cell_type": "markdown",
   "metadata": {},
   "source": [
    "# Visualização de Dados"
   ]
  },
  {
   "cell_type": "code",
   "execution_count": 60,
   "metadata": {},
   "outputs": [],
   "source": [
    "import plotly.express as px"
   ]
  },
  {
   "cell_type": "code",
   "execution_count": 49,
   "metadata": {},
   "outputs": [
    {
     "data": {
      "application/vnd.plotly.v1+json": {
       "config": {
        "plotlyServerURL": "https://plot.ly"
       },
       "data": [
        {
         "hovertemplate": "<b>%{hovertext}</b><br><br>Município=SERRA<br>Data=%{x}<br>Óbitos=%{y}<extra></extra>",
         "hovertext": [
          "SERRA",
          "SERRA",
          "SERRA",
          "SERRA",
          "SERRA",
          "SERRA",
          "SERRA",
          "SERRA",
          "SERRA",
          "SERRA",
          "SERRA",
          "SERRA",
          "SERRA",
          "SERRA",
          "SERRA",
          "SERRA",
          "SERRA",
          "SERRA",
          "SERRA",
          "SERRA",
          "SERRA",
          "SERRA",
          "SERRA",
          "SERRA",
          "SERRA",
          "SERRA",
          "SERRA",
          "SERRA",
          "SERRA",
          "SERRA",
          "SERRA",
          "SERRA",
          "SERRA",
          "SERRA",
          "SERRA",
          "SERRA",
          "SERRA",
          "SERRA",
          "SERRA",
          "SERRA",
          "SERRA",
          "SERRA",
          "SERRA",
          "SERRA",
          "SERRA",
          "SERRA",
          "SERRA",
          "SERRA",
          "SERRA",
          "SERRA",
          "SERRA",
          "SERRA",
          "SERRA",
          "SERRA",
          "SERRA",
          "SERRA",
          "SERRA",
          "SERRA",
          "SERRA",
          "SERRA",
          "SERRA",
          "SERRA",
          "SERRA",
          "SERRA",
          "SERRA",
          "SERRA",
          "SERRA",
          "SERRA",
          "SERRA",
          "SERRA",
          "SERRA",
          "SERRA",
          "SERRA",
          "SERRA",
          "SERRA",
          "SERRA",
          "SERRA",
          "SERRA",
          "SERRA",
          "SERRA",
          "SERRA",
          "SERRA",
          "SERRA",
          "SERRA",
          "SERRA",
          "SERRA",
          "SERRA",
          "SERRA",
          "SERRA",
          "SERRA",
          "SERRA",
          "SERRA",
          "SERRA",
          "SERRA",
          "SERRA",
          "SERRA",
          "SERRA",
          "SERRA",
          "SERRA",
          "SERRA",
          "SERRA",
          "SERRA",
          "SERRA",
          "SERRA",
          "SERRA",
          "SERRA",
          "SERRA",
          "SERRA",
          "SERRA",
          "SERRA",
          "SERRA",
          "SERRA",
          "SERRA",
          "SERRA",
          "SERRA",
          "SERRA",
          "SERRA",
          "SERRA",
          "SERRA",
          "SERRA",
          "SERRA",
          "SERRA",
          "SERRA",
          "SERRA",
          "SERRA",
          "SERRA",
          "SERRA",
          "SERRA",
          "SERRA",
          "SERRA",
          "SERRA",
          "SERRA",
          "SERRA",
          "SERRA",
          "SERRA",
          "SERRA",
          "SERRA",
          "SERRA",
          "SERRA",
          "SERRA",
          "SERRA",
          "SERRA",
          "SERRA",
          "SERRA",
          "SERRA",
          "SERRA",
          "SERRA",
          "SERRA",
          "SERRA",
          "SERRA",
          "SERRA",
          "SERRA",
          "SERRA",
          "SERRA",
          "SERRA",
          "SERRA",
          "SERRA",
          "SERRA",
          "SERRA",
          "SERRA",
          "SERRA",
          "SERRA",
          "SERRA",
          "SERRA",
          "SERRA",
          "SERRA",
          "SERRA",
          "SERRA",
          "SERRA",
          "SERRA",
          "SERRA",
          "SERRA",
          "SERRA",
          "SERRA",
          "SERRA",
          "SERRA",
          "SERRA",
          "SERRA",
          "SERRA",
          "SERRA",
          "SERRA",
          "SERRA",
          "SERRA",
          "SERRA",
          "SERRA",
          "SERRA",
          "SERRA",
          "SERRA",
          "SERRA",
          "SERRA",
          "SERRA",
          "SERRA",
          "SERRA",
          "SERRA",
          "SERRA",
          "SERRA",
          "SERRA",
          "SERRA",
          "SERRA",
          "SERRA",
          "SERRA",
          "SERRA",
          "SERRA",
          "SERRA",
          "SERRA",
          "SERRA",
          "SERRA",
          "SERRA",
          "SERRA",
          "SERRA",
          "SERRA",
          "SERRA",
          "SERRA",
          "SERRA",
          "SERRA",
          "SERRA",
          "SERRA",
          "SERRA",
          "SERRA",
          "SERRA",
          "SERRA",
          "SERRA",
          "SERRA",
          "SERRA",
          "SERRA",
          "SERRA",
          "SERRA",
          "SERRA",
          "SERRA",
          "SERRA",
          "SERRA",
          "SERRA",
          "SERRA",
          "SERRA",
          "SERRA"
         ],
         "legendgroup": "SERRA",
         "line": {
          "color": "#636efa",
          "dash": "solid"
         },
         "mode": "lines",
         "name": "SERRA",
         "orientation": "v",
         "showlegend": true,
         "type": "scatter",
         "x": [
          "2020-02-29T00:00:00",
          "2020-03-06T00:00:00",
          "2020-03-13T00:00:00",
          "2020-03-14T00:00:00",
          "2020-03-15T00:00:00",
          "2020-03-16T00:00:00",
          "2020-03-17T00:00:00",
          "2020-03-18T00:00:00",
          "2020-03-19T00:00:00",
          "2020-03-20T00:00:00",
          "2020-03-21T00:00:00",
          "2020-03-22T00:00:00",
          "2020-03-23T00:00:00",
          "2020-03-24T00:00:00",
          "2020-03-25T00:00:00",
          "2020-03-26T00:00:00",
          "2020-03-27T00:00:00",
          "2020-03-28T00:00:00",
          "2020-03-29T00:00:00",
          "2020-03-30T00:00:00",
          "2020-03-31T00:00:00",
          "2020-04-01T00:00:00",
          "2020-04-02T00:00:00",
          "2020-04-03T00:00:00",
          "2020-04-04T00:00:00",
          "2020-04-05T00:00:00",
          "2020-04-06T00:00:00",
          "2020-04-07T00:00:00",
          "2020-04-08T00:00:00",
          "2020-04-09T00:00:00",
          "2020-04-10T00:00:00",
          "2020-04-11T00:00:00",
          "2020-04-12T00:00:00",
          "2020-04-13T00:00:00",
          "2020-04-14T00:00:00",
          "2020-04-15T00:00:00",
          "2020-04-16T00:00:00",
          "2020-04-17T00:00:00",
          "2020-04-18T00:00:00",
          "2020-04-19T00:00:00",
          "2020-04-20T00:00:00",
          "2020-04-21T00:00:00",
          "2020-04-22T00:00:00",
          "2020-04-23T00:00:00",
          "2020-04-24T00:00:00",
          "2020-04-25T00:00:00",
          "2020-04-26T00:00:00",
          "2020-04-27T00:00:00",
          "2020-04-28T00:00:00",
          "2020-04-29T00:00:00",
          "2020-04-30T00:00:00",
          "2020-05-01T00:00:00",
          "2020-05-02T00:00:00",
          "2020-05-03T00:00:00",
          "2020-05-04T00:00:00",
          "2020-05-05T00:00:00",
          "2020-05-06T00:00:00",
          "2020-05-07T00:00:00",
          "2020-05-08T00:00:00",
          "2020-05-09T00:00:00",
          "2020-05-10T00:00:00",
          "2020-05-11T00:00:00",
          "2020-05-12T00:00:00",
          "2020-05-13T00:00:00",
          "2020-05-14T00:00:00",
          "2020-05-15T00:00:00",
          "2020-05-16T00:00:00",
          "2020-05-17T00:00:00",
          "2020-05-18T00:00:00",
          "2020-05-19T00:00:00",
          "2020-05-20T00:00:00",
          "2020-05-21T00:00:00",
          "2020-05-22T00:00:00",
          "2020-05-23T00:00:00",
          "2020-05-24T00:00:00",
          "2020-05-25T00:00:00",
          "2020-05-26T00:00:00",
          "2020-05-27T00:00:00",
          "2020-05-28T00:00:00",
          "2020-05-29T00:00:00",
          "2020-05-30T00:00:00",
          "2020-05-31T00:00:00",
          "2020-06-01T00:00:00",
          "2020-06-02T00:00:00",
          "2020-06-03T00:00:00",
          "2020-06-04T00:00:00",
          "2020-06-05T00:00:00",
          "2020-06-06T00:00:00",
          "2020-06-07T00:00:00",
          "2020-06-08T00:00:00",
          "2020-06-09T00:00:00",
          "2020-06-10T00:00:00",
          "2020-06-11T00:00:00",
          "2020-06-12T00:00:00",
          "2020-06-13T00:00:00",
          "2020-06-14T00:00:00",
          "2020-06-15T00:00:00",
          "2020-06-16T00:00:00",
          "2020-06-17T00:00:00",
          "2020-06-18T00:00:00",
          "2020-06-19T00:00:00",
          "2020-06-20T00:00:00",
          "2020-06-21T00:00:00",
          "2020-06-22T00:00:00",
          "2020-06-23T00:00:00",
          "2020-06-24T00:00:00",
          "2020-06-25T00:00:00",
          "2020-06-26T00:00:00",
          "2020-06-27T00:00:00",
          "2020-06-28T00:00:00",
          "2020-06-29T00:00:00",
          "2020-06-30T00:00:00",
          "2020-07-01T00:00:00",
          "2020-07-02T00:00:00",
          "2020-07-03T00:00:00",
          "2020-07-04T00:00:00",
          "2020-07-05T00:00:00",
          "2020-07-06T00:00:00",
          "2020-07-07T00:00:00",
          "2020-07-08T00:00:00",
          "2020-07-09T00:00:00",
          "2020-07-10T00:00:00",
          "2020-07-11T00:00:00",
          "2020-07-12T00:00:00",
          "2020-07-13T00:00:00",
          "2020-07-14T00:00:00",
          "2020-07-15T00:00:00",
          "2020-07-16T00:00:00",
          "2020-07-17T00:00:00",
          "2020-07-18T00:00:00",
          "2020-07-19T00:00:00",
          "2020-07-20T00:00:00",
          "2020-07-21T00:00:00",
          "2020-07-22T00:00:00",
          "2020-07-23T00:00:00",
          "2020-07-24T00:00:00",
          "2020-07-25T00:00:00",
          "2020-07-26T00:00:00",
          "2020-07-27T00:00:00",
          "2020-07-28T00:00:00",
          "2020-07-29T00:00:00",
          "2020-07-30T00:00:00",
          "2020-07-31T00:00:00",
          "2020-08-01T00:00:00",
          "2020-08-02T00:00:00",
          "2020-08-03T00:00:00",
          "2020-08-04T00:00:00",
          "2020-08-05T00:00:00",
          "2020-08-06T00:00:00",
          "2020-08-07T00:00:00",
          "2020-08-08T00:00:00",
          "2020-08-09T00:00:00",
          "2020-08-10T00:00:00",
          "2020-08-11T00:00:00",
          "2020-08-12T00:00:00",
          "2020-08-13T00:00:00",
          "2020-08-14T00:00:00",
          "2020-08-15T00:00:00",
          "2020-08-16T00:00:00",
          "2020-08-17T00:00:00",
          "2020-08-18T00:00:00",
          "2020-08-19T00:00:00",
          "2020-08-20T00:00:00",
          "2020-08-21T00:00:00",
          "2020-08-22T00:00:00",
          "2020-08-23T00:00:00",
          "2020-08-24T00:00:00",
          "2020-08-25T00:00:00",
          "2020-08-26T00:00:00",
          "2020-08-27T00:00:00",
          "2020-08-28T00:00:00",
          "2020-08-29T00:00:00",
          "2020-08-30T00:00:00",
          "2020-08-31T00:00:00",
          "2020-09-01T00:00:00",
          "2020-09-02T00:00:00",
          "2020-09-03T00:00:00",
          "2020-09-04T00:00:00",
          "2020-09-05T00:00:00",
          "2020-09-06T00:00:00",
          "2020-09-07T00:00:00",
          "2020-09-08T00:00:00",
          "2020-09-09T00:00:00",
          "2020-09-10T00:00:00",
          "2020-09-11T00:00:00",
          "2020-09-12T00:00:00",
          "2020-09-13T00:00:00",
          "2020-09-14T00:00:00",
          "2020-09-15T00:00:00",
          "2020-09-16T00:00:00",
          "2020-09-17T00:00:00",
          "2020-09-18T00:00:00",
          "2020-09-19T00:00:00",
          "2020-09-20T00:00:00",
          "2020-09-21T00:00:00",
          "2020-09-22T00:00:00",
          "2020-09-23T00:00:00",
          "2020-09-24T00:00:00",
          "2020-09-25T00:00:00",
          "2020-09-26T00:00:00",
          "2020-09-27T00:00:00",
          "2020-09-28T00:00:00",
          "2020-09-29T00:00:00",
          "2020-09-30T00:00:00",
          "2020-10-01T00:00:00",
          "2020-10-02T00:00:00",
          "2020-10-03T00:00:00",
          "2020-10-04T00:00:00",
          "2020-10-05T00:00:00",
          "2020-10-06T00:00:00",
          "2020-10-07T00:00:00",
          "2020-10-08T00:00:00",
          "2020-10-09T00:00:00",
          "2020-10-10T00:00:00",
          "2020-10-11T00:00:00",
          "2020-10-12T00:00:00",
          "2020-10-13T00:00:00",
          "2020-10-14T00:00:00",
          "2020-10-15T00:00:00",
          "2020-10-16T00:00:00",
          "2020-10-17T00:00:00",
          "2020-10-18T00:00:00",
          "2020-10-19T00:00:00",
          "2020-10-20T00:00:00",
          "2020-10-21T00:00:00",
          "2020-10-22T00:00:00",
          "2020-10-23T00:00:00",
          "2020-10-24T00:00:00",
          "2020-10-25T00:00:00",
          "2020-10-26T00:00:00",
          "2020-10-27T00:00:00",
          "2020-10-28T00:00:00",
          "2020-10-29T00:00:00",
          "2020-10-30T00:00:00",
          "2020-10-31T00:00:00"
         ],
         "xaxis": "x",
         "y": [
          0,
          0,
          0,
          0,
          0,
          0,
          0,
          1,
          1,
          3,
          0,
          0,
          1,
          1,
          2,
          1,
          5,
          4,
          0,
          6,
          2,
          7,
          4,
          12,
          7,
          11,
          18,
          22,
          17,
          18,
          17,
          9,
          19,
          24,
          28,
          31,
          29,
          36,
          18,
          25,
          31,
          28,
          41,
          29,
          39,
          22,
          21,
          40,
          35,
          43,
          37,
          32,
          21,
          30,
          49,
          51,
          41,
          51,
          47,
          36,
          32,
          54,
          55,
          55,
          48,
          48,
          34,
          36,
          65,
          54,
          61,
          60,
          54,
          46,
          45,
          65,
          66,
          73,
          66,
          68,
          40,
          35,
          66,
          67,
          65,
          56,
          59,
          43,
          43,
          86,
          87,
          94,
          57,
          59,
          46,
          50,
          95,
          79,
          77,
          70,
          74,
          41,
          30,
          81,
          50,
          81,
          86,
          96,
          35,
          43,
          78,
          86,
          75,
          72,
          81,
          61,
          31,
          90,
          80,
          62,
          70,
          67,
          43,
          28,
          73,
          62,
          69,
          85,
          61,
          33,
          33,
          63,
          54,
          62,
          47,
          61,
          31,
          43,
          53,
          39,
          67,
          69,
          69,
          38,
          37,
          53,
          56,
          54,
          48,
          64,
          28,
          26,
          65,
          65,
          60,
          57,
          55,
          24,
          20,
          51,
          34,
          73,
          54,
          38,
          31,
          16,
          40,
          31,
          34,
          39,
          25,
          23,
          18,
          51,
          40,
          39,
          43,
          36,
          25,
          14,
          28,
          32,
          42,
          36,
          47,
          26,
          16,
          56,
          58,
          54,
          44,
          60,
          50,
          34,
          55,
          60,
          59,
          52,
          47,
          45,
          36,
          62,
          54,
          47,
          40,
          48,
          27,
          30,
          53,
          53,
          44,
          42,
          57,
          27,
          23,
          33,
          58,
          60,
          50,
          59,
          53,
          33,
          69,
          56,
          71,
          61,
          49,
          50,
          36,
          62,
          33,
          31,
          26,
          28,
          7
         ],
         "yaxis": "y"
        },
        {
         "hovertemplate": "<b>%{hovertext}</b><br><br>Município=VITORIA<br>Data=%{x}<br>Óbitos=%{y}<extra></extra>",
         "hovertext": [
          "VITORIA",
          "VITORIA",
          "VITORIA",
          "VITORIA",
          "VITORIA",
          "VITORIA",
          "VITORIA",
          "VITORIA",
          "VITORIA",
          "VITORIA",
          "VITORIA",
          "VITORIA",
          "VITORIA",
          "VITORIA",
          "VITORIA",
          "VITORIA",
          "VITORIA",
          "VITORIA",
          "VITORIA",
          "VITORIA",
          "VITORIA",
          "VITORIA",
          "VITORIA",
          "VITORIA",
          "VITORIA",
          "VITORIA",
          "VITORIA",
          "VITORIA",
          "VITORIA",
          "VITORIA",
          "VITORIA",
          "VITORIA",
          "VITORIA",
          "VITORIA",
          "VITORIA",
          "VITORIA",
          "VITORIA",
          "VITORIA",
          "VITORIA",
          "VITORIA",
          "VITORIA",
          "VITORIA",
          "VITORIA",
          "VITORIA",
          "VITORIA",
          "VITORIA",
          "VITORIA",
          "VITORIA",
          "VITORIA",
          "VITORIA",
          "VITORIA",
          "VITORIA",
          "VITORIA",
          "VITORIA",
          "VITORIA",
          "VITORIA",
          "VITORIA",
          "VITORIA",
          "VITORIA",
          "VITORIA",
          "VITORIA",
          "VITORIA",
          "VITORIA",
          "VITORIA",
          "VITORIA",
          "VITORIA",
          "VITORIA",
          "VITORIA",
          "VITORIA",
          "VITORIA",
          "VITORIA",
          "VITORIA",
          "VITORIA",
          "VITORIA",
          "VITORIA",
          "VITORIA",
          "VITORIA",
          "VITORIA",
          "VITORIA",
          "VITORIA",
          "VITORIA",
          "VITORIA",
          "VITORIA",
          "VITORIA",
          "VITORIA",
          "VITORIA",
          "VITORIA",
          "VITORIA",
          "VITORIA",
          "VITORIA",
          "VITORIA",
          "VITORIA",
          "VITORIA",
          "VITORIA",
          "VITORIA",
          "VITORIA",
          "VITORIA",
          "VITORIA",
          "VITORIA",
          "VITORIA",
          "VITORIA",
          "VITORIA",
          "VITORIA",
          "VITORIA",
          "VITORIA",
          "VITORIA",
          "VITORIA",
          "VITORIA",
          "VITORIA",
          "VITORIA",
          "VITORIA",
          "VITORIA",
          "VITORIA",
          "VITORIA",
          "VITORIA",
          "VITORIA",
          "VITORIA",
          "VITORIA",
          "VITORIA",
          "VITORIA",
          "VITORIA",
          "VITORIA",
          "VITORIA",
          "VITORIA",
          "VITORIA",
          "VITORIA",
          "VITORIA",
          "VITORIA",
          "VITORIA",
          "VITORIA",
          "VITORIA",
          "VITORIA",
          "VITORIA",
          "VITORIA",
          "VITORIA",
          "VITORIA",
          "VITORIA",
          "VITORIA",
          "VITORIA",
          "VITORIA",
          "VITORIA",
          "VITORIA",
          "VITORIA",
          "VITORIA",
          "VITORIA",
          "VITORIA",
          "VITORIA",
          "VITORIA",
          "VITORIA",
          "VITORIA",
          "VITORIA",
          "VITORIA",
          "VITORIA",
          "VITORIA",
          "VITORIA",
          "VITORIA",
          "VITORIA",
          "VITORIA",
          "VITORIA",
          "VITORIA",
          "VITORIA",
          "VITORIA",
          "VITORIA",
          "VITORIA",
          "VITORIA",
          "VITORIA",
          "VITORIA",
          "VITORIA",
          "VITORIA",
          "VITORIA",
          "VITORIA",
          "VITORIA",
          "VITORIA",
          "VITORIA",
          "VITORIA",
          "VITORIA",
          "VITORIA",
          "VITORIA",
          "VITORIA",
          "VITORIA",
          "VITORIA",
          "VITORIA",
          "VITORIA",
          "VITORIA",
          "VITORIA",
          "VITORIA",
          "VITORIA",
          "VITORIA",
          "VITORIA",
          "VITORIA",
          "VITORIA",
          "VITORIA",
          "VITORIA",
          "VITORIA",
          "VITORIA",
          "VITORIA",
          "VITORIA",
          "VITORIA",
          "VITORIA",
          "VITORIA",
          "VITORIA",
          "VITORIA",
          "VITORIA",
          "VITORIA",
          "VITORIA",
          "VITORIA",
          "VITORIA",
          "VITORIA",
          "VITORIA",
          "VITORIA",
          "VITORIA",
          "VITORIA",
          "VITORIA",
          "VITORIA",
          "VITORIA",
          "VITORIA",
          "VITORIA",
          "VITORIA",
          "VITORIA",
          "VITORIA",
          "VITORIA",
          "VITORIA",
          "VITORIA",
          "VITORIA",
          "VITORIA",
          "VITORIA",
          "VITORIA",
          "VITORIA",
          "VITORIA",
          "VITORIA",
          "VITORIA",
          "VITORIA",
          "VITORIA",
          "VITORIA",
          "VITORIA"
         ],
         "legendgroup": "VITORIA",
         "line": {
          "color": "#EF553B",
          "dash": "solid"
         },
         "mode": "lines",
         "name": "VITORIA",
         "orientation": "v",
         "showlegend": true,
         "type": "scatter",
         "x": [
          "2020-02-29T00:00:00",
          "2020-03-06T00:00:00",
          "2020-03-13T00:00:00",
          "2020-03-14T00:00:00",
          "2020-03-15T00:00:00",
          "2020-03-16T00:00:00",
          "2020-03-17T00:00:00",
          "2020-03-18T00:00:00",
          "2020-03-19T00:00:00",
          "2020-03-20T00:00:00",
          "2020-03-21T00:00:00",
          "2020-03-22T00:00:00",
          "2020-03-23T00:00:00",
          "2020-03-24T00:00:00",
          "2020-03-25T00:00:00",
          "2020-03-26T00:00:00",
          "2020-03-27T00:00:00",
          "2020-03-28T00:00:00",
          "2020-03-29T00:00:00",
          "2020-03-30T00:00:00",
          "2020-03-31T00:00:00",
          "2020-04-01T00:00:00",
          "2020-04-02T00:00:00",
          "2020-04-03T00:00:00",
          "2020-04-04T00:00:00",
          "2020-04-05T00:00:00",
          "2020-04-06T00:00:00",
          "2020-04-07T00:00:00",
          "2020-04-08T00:00:00",
          "2020-04-09T00:00:00",
          "2020-04-10T00:00:00",
          "2020-04-11T00:00:00",
          "2020-04-12T00:00:00",
          "2020-04-13T00:00:00",
          "2020-04-14T00:00:00",
          "2020-04-15T00:00:00",
          "2020-04-16T00:00:00",
          "2020-04-17T00:00:00",
          "2020-04-18T00:00:00",
          "2020-04-19T00:00:00",
          "2020-04-20T00:00:00",
          "2020-04-21T00:00:00",
          "2020-04-22T00:00:00",
          "2020-04-23T00:00:00",
          "2020-04-24T00:00:00",
          "2020-04-25T00:00:00",
          "2020-04-26T00:00:00",
          "2020-04-27T00:00:00",
          "2020-04-28T00:00:00",
          "2020-04-29T00:00:00",
          "2020-04-30T00:00:00",
          "2020-05-01T00:00:00",
          "2020-05-02T00:00:00",
          "2020-05-03T00:00:00",
          "2020-05-04T00:00:00",
          "2020-05-05T00:00:00",
          "2020-05-06T00:00:00",
          "2020-05-07T00:00:00",
          "2020-05-08T00:00:00",
          "2020-05-09T00:00:00",
          "2020-05-10T00:00:00",
          "2020-05-11T00:00:00",
          "2020-05-12T00:00:00",
          "2020-05-13T00:00:00",
          "2020-05-14T00:00:00",
          "2020-05-15T00:00:00",
          "2020-05-16T00:00:00",
          "2020-05-17T00:00:00",
          "2020-05-18T00:00:00",
          "2020-05-19T00:00:00",
          "2020-05-20T00:00:00",
          "2020-05-21T00:00:00",
          "2020-05-22T00:00:00",
          "2020-05-23T00:00:00",
          "2020-05-24T00:00:00",
          "2020-05-25T00:00:00",
          "2020-05-26T00:00:00",
          "2020-05-27T00:00:00",
          "2020-05-28T00:00:00",
          "2020-05-29T00:00:00",
          "2020-05-30T00:00:00",
          "2020-05-31T00:00:00",
          "2020-06-01T00:00:00",
          "2020-06-02T00:00:00",
          "2020-06-03T00:00:00",
          "2020-06-04T00:00:00",
          "2020-06-05T00:00:00",
          "2020-06-06T00:00:00",
          "2020-06-07T00:00:00",
          "2020-06-08T00:00:00",
          "2020-06-09T00:00:00",
          "2020-06-10T00:00:00",
          "2020-06-11T00:00:00",
          "2020-06-12T00:00:00",
          "2020-06-13T00:00:00",
          "2020-06-14T00:00:00",
          "2020-06-15T00:00:00",
          "2020-06-16T00:00:00",
          "2020-06-17T00:00:00",
          "2020-06-18T00:00:00",
          "2020-06-19T00:00:00",
          "2020-06-20T00:00:00",
          "2020-06-21T00:00:00",
          "2020-06-22T00:00:00",
          "2020-06-23T00:00:00",
          "2020-06-24T00:00:00",
          "2020-06-25T00:00:00",
          "2020-06-26T00:00:00",
          "2020-06-27T00:00:00",
          "2020-06-28T00:00:00",
          "2020-06-29T00:00:00",
          "2020-06-30T00:00:00",
          "2020-07-01T00:00:00",
          "2020-07-02T00:00:00",
          "2020-07-03T00:00:00",
          "2020-07-04T00:00:00",
          "2020-07-05T00:00:00",
          "2020-07-06T00:00:00",
          "2020-07-07T00:00:00",
          "2020-07-08T00:00:00",
          "2020-07-09T00:00:00",
          "2020-07-10T00:00:00",
          "2020-07-11T00:00:00",
          "2020-07-12T00:00:00",
          "2020-07-13T00:00:00",
          "2020-07-14T00:00:00",
          "2020-07-15T00:00:00",
          "2020-07-16T00:00:00",
          "2020-07-17T00:00:00",
          "2020-07-18T00:00:00",
          "2020-07-19T00:00:00",
          "2020-07-20T00:00:00",
          "2020-07-21T00:00:00",
          "2020-07-22T00:00:00",
          "2020-07-23T00:00:00",
          "2020-07-24T00:00:00",
          "2020-07-25T00:00:00",
          "2020-07-26T00:00:00",
          "2020-07-27T00:00:00",
          "2020-07-28T00:00:00",
          "2020-07-29T00:00:00",
          "2020-07-30T00:00:00",
          "2020-07-31T00:00:00",
          "2020-08-01T00:00:00",
          "2020-08-02T00:00:00",
          "2020-08-03T00:00:00",
          "2020-08-04T00:00:00",
          "2020-08-05T00:00:00",
          "2020-08-06T00:00:00",
          "2020-08-07T00:00:00",
          "2020-08-08T00:00:00",
          "2020-08-09T00:00:00",
          "2020-08-10T00:00:00",
          "2020-08-11T00:00:00",
          "2020-08-12T00:00:00",
          "2020-08-13T00:00:00",
          "2020-08-14T00:00:00",
          "2020-08-15T00:00:00",
          "2020-08-16T00:00:00",
          "2020-08-17T00:00:00",
          "2020-08-18T00:00:00",
          "2020-08-19T00:00:00",
          "2020-08-20T00:00:00",
          "2020-08-21T00:00:00",
          "2020-08-22T00:00:00",
          "2020-08-23T00:00:00",
          "2020-08-24T00:00:00",
          "2020-08-25T00:00:00",
          "2020-08-26T00:00:00",
          "2020-08-27T00:00:00",
          "2020-08-28T00:00:00",
          "2020-08-29T00:00:00",
          "2020-08-30T00:00:00",
          "2020-08-31T00:00:00",
          "2020-09-01T00:00:00",
          "2020-09-02T00:00:00",
          "2020-09-03T00:00:00",
          "2020-09-04T00:00:00",
          "2020-09-05T00:00:00",
          "2020-09-06T00:00:00",
          "2020-09-07T00:00:00",
          "2020-09-08T00:00:00",
          "2020-09-09T00:00:00",
          "2020-09-10T00:00:00",
          "2020-09-11T00:00:00",
          "2020-09-12T00:00:00",
          "2020-09-13T00:00:00",
          "2020-09-14T00:00:00",
          "2020-09-15T00:00:00",
          "2020-09-16T00:00:00",
          "2020-09-17T00:00:00",
          "2020-09-18T00:00:00",
          "2020-09-19T00:00:00",
          "2020-09-20T00:00:00",
          "2020-09-21T00:00:00",
          "2020-09-22T00:00:00",
          "2020-09-23T00:00:00",
          "2020-09-24T00:00:00",
          "2020-09-25T00:00:00",
          "2020-09-26T00:00:00",
          "2020-09-27T00:00:00",
          "2020-09-28T00:00:00",
          "2020-09-29T00:00:00",
          "2020-09-30T00:00:00",
          "2020-10-01T00:00:00",
          "2020-10-02T00:00:00",
          "2020-10-03T00:00:00",
          "2020-10-04T00:00:00",
          "2020-10-05T00:00:00",
          "2020-10-06T00:00:00",
          "2020-10-07T00:00:00",
          "2020-10-08T00:00:00",
          "2020-10-09T00:00:00",
          "2020-10-10T00:00:00",
          "2020-10-11T00:00:00",
          "2020-10-12T00:00:00",
          "2020-10-13T00:00:00",
          "2020-10-14T00:00:00",
          "2020-10-15T00:00:00",
          "2020-10-16T00:00:00",
          "2020-10-17T00:00:00",
          "2020-10-18T00:00:00",
          "2020-10-19T00:00:00",
          "2020-10-20T00:00:00",
          "2020-10-21T00:00:00",
          "2020-10-22T00:00:00",
          "2020-10-23T00:00:00",
          "2020-10-24T00:00:00",
          "2020-10-25T00:00:00",
          "2020-10-26T00:00:00",
          "2020-10-27T00:00:00",
          "2020-10-28T00:00:00",
          "2020-10-29T00:00:00",
          "2020-10-30T00:00:00",
          "2020-10-31T00:00:00"
         ],
         "xaxis": "x",
         "y": [
          0,
          0,
          1,
          1,
          1,
          3,
          2,
          2,
          2,
          1,
          0,
          1,
          0,
          2,
          1,
          3,
          0,
          1,
          0,
          4,
          2,
          5,
          4,
          6,
          13,
          4,
          12,
          13,
          12,
          13,
          9,
          12,
          7,
          21,
          23,
          23,
          19,
          23,
          15,
          12,
          26,
          24,
          39,
          21,
          28,
          10,
          17,
          39,
          31,
          34,
          32,
          19,
          26,
          33,
          35,
          48,
          42,
          37,
          43,
          32,
          23,
          49,
          52,
          53,
          55,
          61,
          29,
          36,
          53,
          53,
          61,
          59,
          52,
          40,
          38,
          64,
          59,
          71,
          68,
          60,
          50,
          39,
          66,
          53,
          67,
          61,
          54,
          43,
          41,
          66,
          57,
          67,
          45,
          45,
          50,
          41,
          62,
          49,
          55,
          63,
          61,
          40,
          36,
          63,
          60,
          61,
          54,
          54,
          33,
          32,
          56,
          59,
          51,
          48,
          50,
          26,
          23,
          58,
          48,
          55,
          47,
          39,
          34,
          24,
          59,
          47,
          50,
          56,
          38,
          24,
          26,
          50,
          44,
          49,
          44,
          40,
          37,
          23,
          41,
          40,
          42,
          52,
          46,
          28,
          20,
          40,
          37,
          40,
          31,
          36,
          26,
          13,
          39,
          43,
          36,
          38,
          36,
          21,
          13,
          38,
          37,
          33,
          27,
          26,
          23,
          13,
          25,
          24,
          28,
          40,
          26,
          12,
          21,
          28,
          30,
          36,
          31,
          35,
          18,
          17,
          17,
          25,
          30,
          24,
          33,
          21,
          11,
          38,
          28,
          32,
          33,
          36,
          27,
          20,
          41,
          39,
          36,
          40,
          36,
          30,
          26,
          52,
          41,
          44,
          42,
          39,
          24,
          26,
          52,
          52,
          51,
          47,
          44,
          24,
          19,
          25,
          49,
          48,
          52,
          40,
          37,
          24,
          48,
          40,
          49,
          46,
          40,
          33,
          23,
          34,
          22,
          15,
          14,
          20,
          11
         ],
         "yaxis": "y"
        }
       ],
       "layout": {
        "legend": {
         "title": {
          "text": "Município"
         },
         "tracegroupgap": 0
        },
        "margin": {
         "t": 60
        },
        "template": {
         "data": {
          "bar": [
           {
            "error_x": {
             "color": "#2a3f5f"
            },
            "error_y": {
             "color": "#2a3f5f"
            },
            "marker": {
             "line": {
              "color": "#E5ECF6",
              "width": 0.5
             }
            },
            "type": "bar"
           }
          ],
          "barpolar": [
           {
            "marker": {
             "line": {
              "color": "#E5ECF6",
              "width": 0.5
             }
            },
            "type": "barpolar"
           }
          ],
          "carpet": [
           {
            "aaxis": {
             "endlinecolor": "#2a3f5f",
             "gridcolor": "white",
             "linecolor": "white",
             "minorgridcolor": "white",
             "startlinecolor": "#2a3f5f"
            },
            "baxis": {
             "endlinecolor": "#2a3f5f",
             "gridcolor": "white",
             "linecolor": "white",
             "minorgridcolor": "white",
             "startlinecolor": "#2a3f5f"
            },
            "type": "carpet"
           }
          ],
          "choropleth": [
           {
            "colorbar": {
             "outlinewidth": 0,
             "ticks": ""
            },
            "type": "choropleth"
           }
          ],
          "contour": [
           {
            "colorbar": {
             "outlinewidth": 0,
             "ticks": ""
            },
            "colorscale": [
             [
              0,
              "#0d0887"
             ],
             [
              0.1111111111111111,
              "#46039f"
             ],
             [
              0.2222222222222222,
              "#7201a8"
             ],
             [
              0.3333333333333333,
              "#9c179e"
             ],
             [
              0.4444444444444444,
              "#bd3786"
             ],
             [
              0.5555555555555556,
              "#d8576b"
             ],
             [
              0.6666666666666666,
              "#ed7953"
             ],
             [
              0.7777777777777778,
              "#fb9f3a"
             ],
             [
              0.8888888888888888,
              "#fdca26"
             ],
             [
              1,
              "#f0f921"
             ]
            ],
            "type": "contour"
           }
          ],
          "contourcarpet": [
           {
            "colorbar": {
             "outlinewidth": 0,
             "ticks": ""
            },
            "type": "contourcarpet"
           }
          ],
          "heatmap": [
           {
            "colorbar": {
             "outlinewidth": 0,
             "ticks": ""
            },
            "colorscale": [
             [
              0,
              "#0d0887"
             ],
             [
              0.1111111111111111,
              "#46039f"
             ],
             [
              0.2222222222222222,
              "#7201a8"
             ],
             [
              0.3333333333333333,
              "#9c179e"
             ],
             [
              0.4444444444444444,
              "#bd3786"
             ],
             [
              0.5555555555555556,
              "#d8576b"
             ],
             [
              0.6666666666666666,
              "#ed7953"
             ],
             [
              0.7777777777777778,
              "#fb9f3a"
             ],
             [
              0.8888888888888888,
              "#fdca26"
             ],
             [
              1,
              "#f0f921"
             ]
            ],
            "type": "heatmap"
           }
          ],
          "heatmapgl": [
           {
            "colorbar": {
             "outlinewidth": 0,
             "ticks": ""
            },
            "colorscale": [
             [
              0,
              "#0d0887"
             ],
             [
              0.1111111111111111,
              "#46039f"
             ],
             [
              0.2222222222222222,
              "#7201a8"
             ],
             [
              0.3333333333333333,
              "#9c179e"
             ],
             [
              0.4444444444444444,
              "#bd3786"
             ],
             [
              0.5555555555555556,
              "#d8576b"
             ],
             [
              0.6666666666666666,
              "#ed7953"
             ],
             [
              0.7777777777777778,
              "#fb9f3a"
             ],
             [
              0.8888888888888888,
              "#fdca26"
             ],
             [
              1,
              "#f0f921"
             ]
            ],
            "type": "heatmapgl"
           }
          ],
          "histogram": [
           {
            "marker": {
             "colorbar": {
              "outlinewidth": 0,
              "ticks": ""
             }
            },
            "type": "histogram"
           }
          ],
          "histogram2d": [
           {
            "colorbar": {
             "outlinewidth": 0,
             "ticks": ""
            },
            "colorscale": [
             [
              0,
              "#0d0887"
             ],
             [
              0.1111111111111111,
              "#46039f"
             ],
             [
              0.2222222222222222,
              "#7201a8"
             ],
             [
              0.3333333333333333,
              "#9c179e"
             ],
             [
              0.4444444444444444,
              "#bd3786"
             ],
             [
              0.5555555555555556,
              "#d8576b"
             ],
             [
              0.6666666666666666,
              "#ed7953"
             ],
             [
              0.7777777777777778,
              "#fb9f3a"
             ],
             [
              0.8888888888888888,
              "#fdca26"
             ],
             [
              1,
              "#f0f921"
             ]
            ],
            "type": "histogram2d"
           }
          ],
          "histogram2dcontour": [
           {
            "colorbar": {
             "outlinewidth": 0,
             "ticks": ""
            },
            "colorscale": [
             [
              0,
              "#0d0887"
             ],
             [
              0.1111111111111111,
              "#46039f"
             ],
             [
              0.2222222222222222,
              "#7201a8"
             ],
             [
              0.3333333333333333,
              "#9c179e"
             ],
             [
              0.4444444444444444,
              "#bd3786"
             ],
             [
              0.5555555555555556,
              "#d8576b"
             ],
             [
              0.6666666666666666,
              "#ed7953"
             ],
             [
              0.7777777777777778,
              "#fb9f3a"
             ],
             [
              0.8888888888888888,
              "#fdca26"
             ],
             [
              1,
              "#f0f921"
             ]
            ],
            "type": "histogram2dcontour"
           }
          ],
          "mesh3d": [
           {
            "colorbar": {
             "outlinewidth": 0,
             "ticks": ""
            },
            "type": "mesh3d"
           }
          ],
          "parcoords": [
           {
            "line": {
             "colorbar": {
              "outlinewidth": 0,
              "ticks": ""
             }
            },
            "type": "parcoords"
           }
          ],
          "pie": [
           {
            "automargin": true,
            "type": "pie"
           }
          ],
          "scatter": [
           {
            "marker": {
             "colorbar": {
              "outlinewidth": 0,
              "ticks": ""
             }
            },
            "type": "scatter"
           }
          ],
          "scatter3d": [
           {
            "line": {
             "colorbar": {
              "outlinewidth": 0,
              "ticks": ""
             }
            },
            "marker": {
             "colorbar": {
              "outlinewidth": 0,
              "ticks": ""
             }
            },
            "type": "scatter3d"
           }
          ],
          "scattercarpet": [
           {
            "marker": {
             "colorbar": {
              "outlinewidth": 0,
              "ticks": ""
             }
            },
            "type": "scattercarpet"
           }
          ],
          "scattergeo": [
           {
            "marker": {
             "colorbar": {
              "outlinewidth": 0,
              "ticks": ""
             }
            },
            "type": "scattergeo"
           }
          ],
          "scattergl": [
           {
            "marker": {
             "colorbar": {
              "outlinewidth": 0,
              "ticks": ""
             }
            },
            "type": "scattergl"
           }
          ],
          "scattermapbox": [
           {
            "marker": {
             "colorbar": {
              "outlinewidth": 0,
              "ticks": ""
             }
            },
            "type": "scattermapbox"
           }
          ],
          "scatterpolar": [
           {
            "marker": {
             "colorbar": {
              "outlinewidth": 0,
              "ticks": ""
             }
            },
            "type": "scatterpolar"
           }
          ],
          "scatterpolargl": [
           {
            "marker": {
             "colorbar": {
              "outlinewidth": 0,
              "ticks": ""
             }
            },
            "type": "scatterpolargl"
           }
          ],
          "scatterternary": [
           {
            "marker": {
             "colorbar": {
              "outlinewidth": 0,
              "ticks": ""
             }
            },
            "type": "scatterternary"
           }
          ],
          "surface": [
           {
            "colorbar": {
             "outlinewidth": 0,
             "ticks": ""
            },
            "colorscale": [
             [
              0,
              "#0d0887"
             ],
             [
              0.1111111111111111,
              "#46039f"
             ],
             [
              0.2222222222222222,
              "#7201a8"
             ],
             [
              0.3333333333333333,
              "#9c179e"
             ],
             [
              0.4444444444444444,
              "#bd3786"
             ],
             [
              0.5555555555555556,
              "#d8576b"
             ],
             [
              0.6666666666666666,
              "#ed7953"
             ],
             [
              0.7777777777777778,
              "#fb9f3a"
             ],
             [
              0.8888888888888888,
              "#fdca26"
             ],
             [
              1,
              "#f0f921"
             ]
            ],
            "type": "surface"
           }
          ],
          "table": [
           {
            "cells": {
             "fill": {
              "color": "#EBF0F8"
             },
             "line": {
              "color": "white"
             }
            },
            "header": {
             "fill": {
              "color": "#C8D4E3"
             },
             "line": {
              "color": "white"
             }
            },
            "type": "table"
           }
          ]
         },
         "layout": {
          "annotationdefaults": {
           "arrowcolor": "#2a3f5f",
           "arrowhead": 0,
           "arrowwidth": 1
          },
          "coloraxis": {
           "colorbar": {
            "outlinewidth": 0,
            "ticks": ""
           }
          },
          "colorscale": {
           "diverging": [
            [
             0,
             "#8e0152"
            ],
            [
             0.1,
             "#c51b7d"
            ],
            [
             0.2,
             "#de77ae"
            ],
            [
             0.3,
             "#f1b6da"
            ],
            [
             0.4,
             "#fde0ef"
            ],
            [
             0.5,
             "#f7f7f7"
            ],
            [
             0.6,
             "#e6f5d0"
            ],
            [
             0.7,
             "#b8e186"
            ],
            [
             0.8,
             "#7fbc41"
            ],
            [
             0.9,
             "#4d9221"
            ],
            [
             1,
             "#276419"
            ]
           ],
           "sequential": [
            [
             0,
             "#0d0887"
            ],
            [
             0.1111111111111111,
             "#46039f"
            ],
            [
             0.2222222222222222,
             "#7201a8"
            ],
            [
             0.3333333333333333,
             "#9c179e"
            ],
            [
             0.4444444444444444,
             "#bd3786"
            ],
            [
             0.5555555555555556,
             "#d8576b"
            ],
            [
             0.6666666666666666,
             "#ed7953"
            ],
            [
             0.7777777777777778,
             "#fb9f3a"
            ],
            [
             0.8888888888888888,
             "#fdca26"
            ],
            [
             1,
             "#f0f921"
            ]
           ],
           "sequentialminus": [
            [
             0,
             "#0d0887"
            ],
            [
             0.1111111111111111,
             "#46039f"
            ],
            [
             0.2222222222222222,
             "#7201a8"
            ],
            [
             0.3333333333333333,
             "#9c179e"
            ],
            [
             0.4444444444444444,
             "#bd3786"
            ],
            [
             0.5555555555555556,
             "#d8576b"
            ],
            [
             0.6666666666666666,
             "#ed7953"
            ],
            [
             0.7777777777777778,
             "#fb9f3a"
            ],
            [
             0.8888888888888888,
             "#fdca26"
            ],
            [
             1,
             "#f0f921"
            ]
           ]
          },
          "colorway": [
           "#636efa",
           "#EF553B",
           "#00cc96",
           "#ab63fa",
           "#FFA15A",
           "#19d3f3",
           "#FF6692",
           "#B6E880",
           "#FF97FF",
           "#FECB52"
          ],
          "font": {
           "color": "#2a3f5f"
          },
          "geo": {
           "bgcolor": "white",
           "lakecolor": "white",
           "landcolor": "#E5ECF6",
           "showlakes": true,
           "showland": true,
           "subunitcolor": "white"
          },
          "hoverlabel": {
           "align": "left"
          },
          "hovermode": "closest",
          "mapbox": {
           "style": "light"
          },
          "paper_bgcolor": "white",
          "plot_bgcolor": "#E5ECF6",
          "polar": {
           "angularaxis": {
            "gridcolor": "white",
            "linecolor": "white",
            "ticks": ""
           },
           "bgcolor": "#E5ECF6",
           "radialaxis": {
            "gridcolor": "white",
            "linecolor": "white",
            "ticks": ""
           }
          },
          "scene": {
           "xaxis": {
            "backgroundcolor": "#E5ECF6",
            "gridcolor": "white",
            "gridwidth": 2,
            "linecolor": "white",
            "showbackground": true,
            "ticks": "",
            "zerolinecolor": "white"
           },
           "yaxis": {
            "backgroundcolor": "#E5ECF6",
            "gridcolor": "white",
            "gridwidth": 2,
            "linecolor": "white",
            "showbackground": true,
            "ticks": "",
            "zerolinecolor": "white"
           },
           "zaxis": {
            "backgroundcolor": "#E5ECF6",
            "gridcolor": "white",
            "gridwidth": 2,
            "linecolor": "white",
            "showbackground": true,
            "ticks": "",
            "zerolinecolor": "white"
           }
          },
          "shapedefaults": {
           "line": {
            "color": "#2a3f5f"
           }
          },
          "ternary": {
           "aaxis": {
            "gridcolor": "white",
            "linecolor": "white",
            "ticks": ""
           },
           "baxis": {
            "gridcolor": "white",
            "linecolor": "white",
            "ticks": ""
           },
           "bgcolor": "#E5ECF6",
           "caxis": {
            "gridcolor": "white",
            "linecolor": "white",
            "ticks": ""
           }
          },
          "title": {
           "x": 0.05
          },
          "xaxis": {
           "automargin": true,
           "gridcolor": "white",
           "linecolor": "white",
           "ticks": "",
           "title": {
            "standoff": 15
           },
           "zerolinecolor": "white",
           "zerolinewidth": 2
          },
          "yaxis": {
           "automargin": true,
           "gridcolor": "white",
           "linecolor": "white",
           "ticks": "",
           "title": {
            "standoff": 15
           },
           "zerolinecolor": "white",
           "zerolinewidth": 2
          }
         }
        },
        "xaxis": {
         "anchor": "y",
         "domain": [
          0,
          1
         ],
         "title": {
          "text": "Data"
         }
        },
        "yaxis": {
         "anchor": "x",
         "domain": [
          0,
          1
         ],
         "title": {
          "text": "Óbitos"
         }
        }
       }
      },
      "text/html": [
       "<div>                            <div id=\"62faf8af-9311-4a23-8010-9d40aef0125b\" class=\"plotly-graph-div\" style=\"height:525px; width:100%;\"></div>            <script type=\"text/javascript\">                require([\"plotly\"], function(Plotly) {                    window.PLOTLYENV=window.PLOTLYENV || {};                                    if (document.getElementById(\"62faf8af-9311-4a23-8010-9d40aef0125b\")) {                    Plotly.newPlot(                        \"62faf8af-9311-4a23-8010-9d40aef0125b\",                        [{\"hovertemplate\": \"<b>%{hovertext}</b><br><br>Munic\\u00edpio=SERRA<br>Data=%{x}<br>\\u00d3bitos=%{y}<extra></extra>\", \"hovertext\": [\"SERRA\", \"SERRA\", \"SERRA\", \"SERRA\", \"SERRA\", \"SERRA\", \"SERRA\", \"SERRA\", \"SERRA\", \"SERRA\", \"SERRA\", \"SERRA\", \"SERRA\", \"SERRA\", \"SERRA\", \"SERRA\", \"SERRA\", \"SERRA\", \"SERRA\", \"SERRA\", \"SERRA\", \"SERRA\", \"SERRA\", \"SERRA\", \"SERRA\", \"SERRA\", \"SERRA\", \"SERRA\", \"SERRA\", \"SERRA\", \"SERRA\", \"SERRA\", \"SERRA\", \"SERRA\", \"SERRA\", \"SERRA\", \"SERRA\", \"SERRA\", \"SERRA\", \"SERRA\", \"SERRA\", \"SERRA\", \"SERRA\", \"SERRA\", \"SERRA\", \"SERRA\", \"SERRA\", \"SERRA\", \"SERRA\", \"SERRA\", \"SERRA\", \"SERRA\", \"SERRA\", \"SERRA\", \"SERRA\", \"SERRA\", \"SERRA\", \"SERRA\", \"SERRA\", \"SERRA\", \"SERRA\", \"SERRA\", \"SERRA\", \"SERRA\", \"SERRA\", \"SERRA\", \"SERRA\", \"SERRA\", \"SERRA\", \"SERRA\", \"SERRA\", \"SERRA\", \"SERRA\", \"SERRA\", \"SERRA\", \"SERRA\", \"SERRA\", \"SERRA\", \"SERRA\", \"SERRA\", \"SERRA\", \"SERRA\", \"SERRA\", \"SERRA\", \"SERRA\", \"SERRA\", \"SERRA\", \"SERRA\", \"SERRA\", \"SERRA\", \"SERRA\", \"SERRA\", \"SERRA\", \"SERRA\", \"SERRA\", \"SERRA\", \"SERRA\", \"SERRA\", \"SERRA\", \"SERRA\", \"SERRA\", \"SERRA\", \"SERRA\", \"SERRA\", \"SERRA\", \"SERRA\", \"SERRA\", \"SERRA\", \"SERRA\", \"SERRA\", \"SERRA\", \"SERRA\", \"SERRA\", \"SERRA\", \"SERRA\", \"SERRA\", \"SERRA\", \"SERRA\", \"SERRA\", \"SERRA\", \"SERRA\", \"SERRA\", \"SERRA\", \"SERRA\", \"SERRA\", \"SERRA\", \"SERRA\", \"SERRA\", \"SERRA\", \"SERRA\", \"SERRA\", \"SERRA\", \"SERRA\", \"SERRA\", \"SERRA\", \"SERRA\", \"SERRA\", \"SERRA\", \"SERRA\", \"SERRA\", \"SERRA\", \"SERRA\", \"SERRA\", \"SERRA\", \"SERRA\", \"SERRA\", \"SERRA\", \"SERRA\", \"SERRA\", \"SERRA\", \"SERRA\", \"SERRA\", \"SERRA\", \"SERRA\", \"SERRA\", \"SERRA\", \"SERRA\", \"SERRA\", \"SERRA\", \"SERRA\", \"SERRA\", \"SERRA\", \"SERRA\", \"SERRA\", \"SERRA\", \"SERRA\", \"SERRA\", \"SERRA\", \"SERRA\", \"SERRA\", \"SERRA\", \"SERRA\", \"SERRA\", \"SERRA\", \"SERRA\", \"SERRA\", \"SERRA\", \"SERRA\", \"SERRA\", \"SERRA\", \"SERRA\", \"SERRA\", \"SERRA\", \"SERRA\", \"SERRA\", \"SERRA\", \"SERRA\", \"SERRA\", \"SERRA\", \"SERRA\", \"SERRA\", \"SERRA\", \"SERRA\", \"SERRA\", \"SERRA\", \"SERRA\", \"SERRA\", \"SERRA\", \"SERRA\", \"SERRA\", \"SERRA\", \"SERRA\", \"SERRA\", \"SERRA\", \"SERRA\", \"SERRA\", \"SERRA\", \"SERRA\", \"SERRA\", \"SERRA\", \"SERRA\", \"SERRA\", \"SERRA\", \"SERRA\", \"SERRA\", \"SERRA\", \"SERRA\", \"SERRA\", \"SERRA\", \"SERRA\", \"SERRA\", \"SERRA\", \"SERRA\", \"SERRA\", \"SERRA\", \"SERRA\", \"SERRA\", \"SERRA\", \"SERRA\", \"SERRA\", \"SERRA\", \"SERRA\", \"SERRA\", \"SERRA\", \"SERRA\"], \"legendgroup\": \"SERRA\", \"line\": {\"color\": \"#636efa\", \"dash\": \"solid\"}, \"mode\": \"lines\", \"name\": \"SERRA\", \"orientation\": \"v\", \"showlegend\": true, \"type\": \"scatter\", \"x\": [\"2020-02-29T00:00:00\", \"2020-03-06T00:00:00\", \"2020-03-13T00:00:00\", \"2020-03-14T00:00:00\", \"2020-03-15T00:00:00\", \"2020-03-16T00:00:00\", \"2020-03-17T00:00:00\", \"2020-03-18T00:00:00\", \"2020-03-19T00:00:00\", \"2020-03-20T00:00:00\", \"2020-03-21T00:00:00\", \"2020-03-22T00:00:00\", \"2020-03-23T00:00:00\", \"2020-03-24T00:00:00\", \"2020-03-25T00:00:00\", \"2020-03-26T00:00:00\", \"2020-03-27T00:00:00\", \"2020-03-28T00:00:00\", \"2020-03-29T00:00:00\", \"2020-03-30T00:00:00\", \"2020-03-31T00:00:00\", \"2020-04-01T00:00:00\", \"2020-04-02T00:00:00\", \"2020-04-03T00:00:00\", \"2020-04-04T00:00:00\", \"2020-04-05T00:00:00\", \"2020-04-06T00:00:00\", \"2020-04-07T00:00:00\", \"2020-04-08T00:00:00\", \"2020-04-09T00:00:00\", \"2020-04-10T00:00:00\", \"2020-04-11T00:00:00\", \"2020-04-12T00:00:00\", \"2020-04-13T00:00:00\", \"2020-04-14T00:00:00\", \"2020-04-15T00:00:00\", \"2020-04-16T00:00:00\", \"2020-04-17T00:00:00\", \"2020-04-18T00:00:00\", \"2020-04-19T00:00:00\", \"2020-04-20T00:00:00\", \"2020-04-21T00:00:00\", \"2020-04-22T00:00:00\", \"2020-04-23T00:00:00\", \"2020-04-24T00:00:00\", \"2020-04-25T00:00:00\", \"2020-04-26T00:00:00\", \"2020-04-27T00:00:00\", \"2020-04-28T00:00:00\", \"2020-04-29T00:00:00\", \"2020-04-30T00:00:00\", \"2020-05-01T00:00:00\", \"2020-05-02T00:00:00\", \"2020-05-03T00:00:00\", \"2020-05-04T00:00:00\", \"2020-05-05T00:00:00\", \"2020-05-06T00:00:00\", \"2020-05-07T00:00:00\", \"2020-05-08T00:00:00\", \"2020-05-09T00:00:00\", \"2020-05-10T00:00:00\", \"2020-05-11T00:00:00\", \"2020-05-12T00:00:00\", \"2020-05-13T00:00:00\", \"2020-05-14T00:00:00\", \"2020-05-15T00:00:00\", \"2020-05-16T00:00:00\", \"2020-05-17T00:00:00\", \"2020-05-18T00:00:00\", \"2020-05-19T00:00:00\", \"2020-05-20T00:00:00\", \"2020-05-21T00:00:00\", \"2020-05-22T00:00:00\", \"2020-05-23T00:00:00\", \"2020-05-24T00:00:00\", \"2020-05-25T00:00:00\", \"2020-05-26T00:00:00\", \"2020-05-27T00:00:00\", \"2020-05-28T00:00:00\", \"2020-05-29T00:00:00\", \"2020-05-30T00:00:00\", \"2020-05-31T00:00:00\", \"2020-06-01T00:00:00\", \"2020-06-02T00:00:00\", \"2020-06-03T00:00:00\", \"2020-06-04T00:00:00\", \"2020-06-05T00:00:00\", \"2020-06-06T00:00:00\", \"2020-06-07T00:00:00\", \"2020-06-08T00:00:00\", \"2020-06-09T00:00:00\", \"2020-06-10T00:00:00\", \"2020-06-11T00:00:00\", \"2020-06-12T00:00:00\", \"2020-06-13T00:00:00\", \"2020-06-14T00:00:00\", \"2020-06-15T00:00:00\", \"2020-06-16T00:00:00\", \"2020-06-17T00:00:00\", \"2020-06-18T00:00:00\", \"2020-06-19T00:00:00\", \"2020-06-20T00:00:00\", \"2020-06-21T00:00:00\", \"2020-06-22T00:00:00\", \"2020-06-23T00:00:00\", \"2020-06-24T00:00:00\", \"2020-06-25T00:00:00\", \"2020-06-26T00:00:00\", \"2020-06-27T00:00:00\", \"2020-06-28T00:00:00\", \"2020-06-29T00:00:00\", \"2020-06-30T00:00:00\", \"2020-07-01T00:00:00\", \"2020-07-02T00:00:00\", \"2020-07-03T00:00:00\", \"2020-07-04T00:00:00\", \"2020-07-05T00:00:00\", \"2020-07-06T00:00:00\", \"2020-07-07T00:00:00\", \"2020-07-08T00:00:00\", \"2020-07-09T00:00:00\", \"2020-07-10T00:00:00\", \"2020-07-11T00:00:00\", \"2020-07-12T00:00:00\", \"2020-07-13T00:00:00\", \"2020-07-14T00:00:00\", \"2020-07-15T00:00:00\", \"2020-07-16T00:00:00\", \"2020-07-17T00:00:00\", \"2020-07-18T00:00:00\", \"2020-07-19T00:00:00\", \"2020-07-20T00:00:00\", \"2020-07-21T00:00:00\", \"2020-07-22T00:00:00\", \"2020-07-23T00:00:00\", \"2020-07-24T00:00:00\", \"2020-07-25T00:00:00\", \"2020-07-26T00:00:00\", \"2020-07-27T00:00:00\", \"2020-07-28T00:00:00\", \"2020-07-29T00:00:00\", \"2020-07-30T00:00:00\", \"2020-07-31T00:00:00\", \"2020-08-01T00:00:00\", \"2020-08-02T00:00:00\", \"2020-08-03T00:00:00\", \"2020-08-04T00:00:00\", \"2020-08-05T00:00:00\", \"2020-08-06T00:00:00\", \"2020-08-07T00:00:00\", \"2020-08-08T00:00:00\", \"2020-08-09T00:00:00\", \"2020-08-10T00:00:00\", \"2020-08-11T00:00:00\", \"2020-08-12T00:00:00\", \"2020-08-13T00:00:00\", \"2020-08-14T00:00:00\", \"2020-08-15T00:00:00\", \"2020-08-16T00:00:00\", \"2020-08-17T00:00:00\", \"2020-08-18T00:00:00\", \"2020-08-19T00:00:00\", \"2020-08-20T00:00:00\", \"2020-08-21T00:00:00\", \"2020-08-22T00:00:00\", \"2020-08-23T00:00:00\", \"2020-08-24T00:00:00\", \"2020-08-25T00:00:00\", \"2020-08-26T00:00:00\", \"2020-08-27T00:00:00\", \"2020-08-28T00:00:00\", \"2020-08-29T00:00:00\", \"2020-08-30T00:00:00\", \"2020-08-31T00:00:00\", \"2020-09-01T00:00:00\", \"2020-09-02T00:00:00\", \"2020-09-03T00:00:00\", \"2020-09-04T00:00:00\", \"2020-09-05T00:00:00\", \"2020-09-06T00:00:00\", \"2020-09-07T00:00:00\", \"2020-09-08T00:00:00\", \"2020-09-09T00:00:00\", \"2020-09-10T00:00:00\", \"2020-09-11T00:00:00\", \"2020-09-12T00:00:00\", \"2020-09-13T00:00:00\", \"2020-09-14T00:00:00\", \"2020-09-15T00:00:00\", \"2020-09-16T00:00:00\", \"2020-09-17T00:00:00\", \"2020-09-18T00:00:00\", \"2020-09-19T00:00:00\", \"2020-09-20T00:00:00\", \"2020-09-21T00:00:00\", \"2020-09-22T00:00:00\", \"2020-09-23T00:00:00\", \"2020-09-24T00:00:00\", \"2020-09-25T00:00:00\", \"2020-09-26T00:00:00\", \"2020-09-27T00:00:00\", \"2020-09-28T00:00:00\", \"2020-09-29T00:00:00\", \"2020-09-30T00:00:00\", \"2020-10-01T00:00:00\", \"2020-10-02T00:00:00\", \"2020-10-03T00:00:00\", \"2020-10-04T00:00:00\", \"2020-10-05T00:00:00\", \"2020-10-06T00:00:00\", \"2020-10-07T00:00:00\", \"2020-10-08T00:00:00\", \"2020-10-09T00:00:00\", \"2020-10-10T00:00:00\", \"2020-10-11T00:00:00\", \"2020-10-12T00:00:00\", \"2020-10-13T00:00:00\", \"2020-10-14T00:00:00\", \"2020-10-15T00:00:00\", \"2020-10-16T00:00:00\", \"2020-10-17T00:00:00\", \"2020-10-18T00:00:00\", \"2020-10-19T00:00:00\", \"2020-10-20T00:00:00\", \"2020-10-21T00:00:00\", \"2020-10-22T00:00:00\", \"2020-10-23T00:00:00\", \"2020-10-24T00:00:00\", \"2020-10-25T00:00:00\", \"2020-10-26T00:00:00\", \"2020-10-27T00:00:00\", \"2020-10-28T00:00:00\", \"2020-10-29T00:00:00\", \"2020-10-30T00:00:00\", \"2020-10-31T00:00:00\"], \"xaxis\": \"x\", \"y\": [0.0, 0.0, 0.0, 0.0, 0.0, 0.0, 0.0, 1.0, 1.0, 3.0, 0.0, 0.0, 1.0, 1.0, 2.0, 1.0, 5.0, 4.0, 0.0, 6.0, 2.0, 7.0, 4.0, 12.0, 7.0, 11.0, 18.0, 22.0, 17.0, 18.0, 17.0, 9.0, 19.0, 24.0, 28.0, 31.0, 29.0, 36.0, 18.0, 25.0, 31.0, 28.0, 41.0, 29.0, 39.0, 22.0, 21.0, 40.0, 35.0, 43.0, 37.0, 32.0, 21.0, 30.0, 49.0, 51.0, 41.0, 51.0, 47.0, 36.0, 32.0, 54.0, 55.0, 55.0, 48.0, 48.0, 34.0, 36.0, 65.0, 54.0, 61.0, 60.0, 54.0, 46.0, 45.0, 65.0, 66.0, 73.0, 66.0, 68.0, 40.0, 35.0, 66.0, 67.0, 65.0, 56.0, 59.0, 43.0, 43.0, 86.0, 87.0, 94.0, 57.0, 59.0, 46.0, 50.0, 95.0, 79.0, 77.0, 70.0, 74.0, 41.0, 30.0, 81.0, 50.0, 81.0, 86.0, 96.0, 35.0, 43.0, 78.0, 86.0, 75.0, 72.0, 81.0, 61.0, 31.0, 90.0, 80.0, 62.0, 70.0, 67.0, 43.0, 28.0, 73.0, 62.0, 69.0, 85.0, 61.0, 33.0, 33.0, 63.0, 54.0, 62.0, 47.0, 61.0, 31.0, 43.0, 53.0, 39.0, 67.0, 69.0, 69.0, 38.0, 37.0, 53.0, 56.0, 54.0, 48.0, 64.0, 28.0, 26.0, 65.0, 65.0, 60.0, 57.0, 55.0, 24.0, 20.0, 51.0, 34.0, 73.0, 54.0, 38.0, 31.0, 16.0, 40.0, 31.0, 34.0, 39.0, 25.0, 23.0, 18.0, 51.0, 40.0, 39.0, 43.0, 36.0, 25.0, 14.0, 28.0, 32.0, 42.0, 36.0, 47.0, 26.0, 16.0, 56.0, 58.0, 54.0, 44.0, 60.0, 50.0, 34.0, 55.0, 60.0, 59.0, 52.0, 47.0, 45.0, 36.0, 62.0, 54.0, 47.0, 40.0, 48.0, 27.0, 30.0, 53.0, 53.0, 44.0, 42.0, 57.0, 27.0, 23.0, 33.0, 58.0, 60.0, 50.0, 59.0, 53.0, 33.0, 69.0, 56.0, 71.0, 61.0, 49.0, 50.0, 36.0, 62.0, 33.0, 31.0, 26.0, 28.0, 7.0], \"yaxis\": \"y\"}, {\"hovertemplate\": \"<b>%{hovertext}</b><br><br>Munic\\u00edpio=VITORIA<br>Data=%{x}<br>\\u00d3bitos=%{y}<extra></extra>\", \"hovertext\": [\"VITORIA\", \"VITORIA\", \"VITORIA\", \"VITORIA\", \"VITORIA\", \"VITORIA\", \"VITORIA\", \"VITORIA\", \"VITORIA\", \"VITORIA\", \"VITORIA\", \"VITORIA\", \"VITORIA\", \"VITORIA\", \"VITORIA\", \"VITORIA\", \"VITORIA\", \"VITORIA\", \"VITORIA\", \"VITORIA\", \"VITORIA\", \"VITORIA\", \"VITORIA\", \"VITORIA\", \"VITORIA\", \"VITORIA\", \"VITORIA\", \"VITORIA\", \"VITORIA\", \"VITORIA\", \"VITORIA\", \"VITORIA\", \"VITORIA\", \"VITORIA\", \"VITORIA\", \"VITORIA\", \"VITORIA\", \"VITORIA\", \"VITORIA\", \"VITORIA\", \"VITORIA\", \"VITORIA\", \"VITORIA\", \"VITORIA\", \"VITORIA\", \"VITORIA\", \"VITORIA\", \"VITORIA\", \"VITORIA\", \"VITORIA\", \"VITORIA\", \"VITORIA\", \"VITORIA\", \"VITORIA\", \"VITORIA\", \"VITORIA\", \"VITORIA\", \"VITORIA\", \"VITORIA\", \"VITORIA\", \"VITORIA\", \"VITORIA\", \"VITORIA\", \"VITORIA\", \"VITORIA\", \"VITORIA\", \"VITORIA\", \"VITORIA\", \"VITORIA\", \"VITORIA\", \"VITORIA\", \"VITORIA\", \"VITORIA\", \"VITORIA\", \"VITORIA\", \"VITORIA\", \"VITORIA\", \"VITORIA\", \"VITORIA\", \"VITORIA\", \"VITORIA\", \"VITORIA\", \"VITORIA\", \"VITORIA\", \"VITORIA\", \"VITORIA\", \"VITORIA\", \"VITORIA\", \"VITORIA\", \"VITORIA\", \"VITORIA\", \"VITORIA\", \"VITORIA\", \"VITORIA\", \"VITORIA\", \"VITORIA\", \"VITORIA\", \"VITORIA\", \"VITORIA\", \"VITORIA\", \"VITORIA\", \"VITORIA\", \"VITORIA\", \"VITORIA\", \"VITORIA\", \"VITORIA\", \"VITORIA\", \"VITORIA\", \"VITORIA\", \"VITORIA\", \"VITORIA\", \"VITORIA\", \"VITORIA\", \"VITORIA\", \"VITORIA\", \"VITORIA\", \"VITORIA\", \"VITORIA\", \"VITORIA\", \"VITORIA\", \"VITORIA\", \"VITORIA\", \"VITORIA\", \"VITORIA\", \"VITORIA\", \"VITORIA\", \"VITORIA\", \"VITORIA\", \"VITORIA\", \"VITORIA\", \"VITORIA\", \"VITORIA\", \"VITORIA\", \"VITORIA\", \"VITORIA\", \"VITORIA\", \"VITORIA\", \"VITORIA\", \"VITORIA\", \"VITORIA\", \"VITORIA\", \"VITORIA\", \"VITORIA\", \"VITORIA\", \"VITORIA\", \"VITORIA\", \"VITORIA\", \"VITORIA\", \"VITORIA\", \"VITORIA\", \"VITORIA\", \"VITORIA\", \"VITORIA\", \"VITORIA\", \"VITORIA\", \"VITORIA\", \"VITORIA\", \"VITORIA\", \"VITORIA\", \"VITORIA\", \"VITORIA\", \"VITORIA\", \"VITORIA\", \"VITORIA\", \"VITORIA\", \"VITORIA\", \"VITORIA\", \"VITORIA\", \"VITORIA\", \"VITORIA\", \"VITORIA\", \"VITORIA\", \"VITORIA\", \"VITORIA\", \"VITORIA\", \"VITORIA\", \"VITORIA\", \"VITORIA\", \"VITORIA\", \"VITORIA\", \"VITORIA\", \"VITORIA\", \"VITORIA\", \"VITORIA\", \"VITORIA\", \"VITORIA\", \"VITORIA\", \"VITORIA\", \"VITORIA\", \"VITORIA\", \"VITORIA\", \"VITORIA\", \"VITORIA\", \"VITORIA\", \"VITORIA\", \"VITORIA\", \"VITORIA\", \"VITORIA\", \"VITORIA\", \"VITORIA\", \"VITORIA\", \"VITORIA\", \"VITORIA\", \"VITORIA\", \"VITORIA\", \"VITORIA\", \"VITORIA\", \"VITORIA\", \"VITORIA\", \"VITORIA\", \"VITORIA\", \"VITORIA\", \"VITORIA\", \"VITORIA\", \"VITORIA\", \"VITORIA\", \"VITORIA\", \"VITORIA\", \"VITORIA\", \"VITORIA\", \"VITORIA\", \"VITORIA\", \"VITORIA\", \"VITORIA\", \"VITORIA\", \"VITORIA\", \"VITORIA\", \"VITORIA\", \"VITORIA\", \"VITORIA\", \"VITORIA\", \"VITORIA\", \"VITORIA\", \"VITORIA\", \"VITORIA\"], \"legendgroup\": \"VITORIA\", \"line\": {\"color\": \"#EF553B\", \"dash\": \"solid\"}, \"mode\": \"lines\", \"name\": \"VITORIA\", \"orientation\": \"v\", \"showlegend\": true, \"type\": \"scatter\", \"x\": [\"2020-02-29T00:00:00\", \"2020-03-06T00:00:00\", \"2020-03-13T00:00:00\", \"2020-03-14T00:00:00\", \"2020-03-15T00:00:00\", \"2020-03-16T00:00:00\", \"2020-03-17T00:00:00\", \"2020-03-18T00:00:00\", \"2020-03-19T00:00:00\", \"2020-03-20T00:00:00\", \"2020-03-21T00:00:00\", \"2020-03-22T00:00:00\", \"2020-03-23T00:00:00\", \"2020-03-24T00:00:00\", \"2020-03-25T00:00:00\", \"2020-03-26T00:00:00\", \"2020-03-27T00:00:00\", \"2020-03-28T00:00:00\", \"2020-03-29T00:00:00\", \"2020-03-30T00:00:00\", \"2020-03-31T00:00:00\", \"2020-04-01T00:00:00\", \"2020-04-02T00:00:00\", \"2020-04-03T00:00:00\", \"2020-04-04T00:00:00\", \"2020-04-05T00:00:00\", \"2020-04-06T00:00:00\", \"2020-04-07T00:00:00\", \"2020-04-08T00:00:00\", \"2020-04-09T00:00:00\", \"2020-04-10T00:00:00\", \"2020-04-11T00:00:00\", \"2020-04-12T00:00:00\", \"2020-04-13T00:00:00\", \"2020-04-14T00:00:00\", \"2020-04-15T00:00:00\", \"2020-04-16T00:00:00\", \"2020-04-17T00:00:00\", \"2020-04-18T00:00:00\", \"2020-04-19T00:00:00\", \"2020-04-20T00:00:00\", \"2020-04-21T00:00:00\", \"2020-04-22T00:00:00\", \"2020-04-23T00:00:00\", \"2020-04-24T00:00:00\", \"2020-04-25T00:00:00\", \"2020-04-26T00:00:00\", \"2020-04-27T00:00:00\", \"2020-04-28T00:00:00\", \"2020-04-29T00:00:00\", \"2020-04-30T00:00:00\", \"2020-05-01T00:00:00\", \"2020-05-02T00:00:00\", \"2020-05-03T00:00:00\", \"2020-05-04T00:00:00\", \"2020-05-05T00:00:00\", \"2020-05-06T00:00:00\", \"2020-05-07T00:00:00\", \"2020-05-08T00:00:00\", \"2020-05-09T00:00:00\", \"2020-05-10T00:00:00\", \"2020-05-11T00:00:00\", \"2020-05-12T00:00:00\", \"2020-05-13T00:00:00\", \"2020-05-14T00:00:00\", \"2020-05-15T00:00:00\", \"2020-05-16T00:00:00\", \"2020-05-17T00:00:00\", \"2020-05-18T00:00:00\", \"2020-05-19T00:00:00\", \"2020-05-20T00:00:00\", \"2020-05-21T00:00:00\", \"2020-05-22T00:00:00\", \"2020-05-23T00:00:00\", \"2020-05-24T00:00:00\", \"2020-05-25T00:00:00\", \"2020-05-26T00:00:00\", \"2020-05-27T00:00:00\", \"2020-05-28T00:00:00\", \"2020-05-29T00:00:00\", \"2020-05-30T00:00:00\", \"2020-05-31T00:00:00\", \"2020-06-01T00:00:00\", \"2020-06-02T00:00:00\", \"2020-06-03T00:00:00\", \"2020-06-04T00:00:00\", \"2020-06-05T00:00:00\", \"2020-06-06T00:00:00\", \"2020-06-07T00:00:00\", \"2020-06-08T00:00:00\", \"2020-06-09T00:00:00\", \"2020-06-10T00:00:00\", \"2020-06-11T00:00:00\", \"2020-06-12T00:00:00\", \"2020-06-13T00:00:00\", \"2020-06-14T00:00:00\", \"2020-06-15T00:00:00\", \"2020-06-16T00:00:00\", \"2020-06-17T00:00:00\", \"2020-06-18T00:00:00\", \"2020-06-19T00:00:00\", \"2020-06-20T00:00:00\", \"2020-06-21T00:00:00\", \"2020-06-22T00:00:00\", \"2020-06-23T00:00:00\", \"2020-06-24T00:00:00\", \"2020-06-25T00:00:00\", \"2020-06-26T00:00:00\", \"2020-06-27T00:00:00\", \"2020-06-28T00:00:00\", \"2020-06-29T00:00:00\", \"2020-06-30T00:00:00\", \"2020-07-01T00:00:00\", \"2020-07-02T00:00:00\", \"2020-07-03T00:00:00\", \"2020-07-04T00:00:00\", \"2020-07-05T00:00:00\", \"2020-07-06T00:00:00\", \"2020-07-07T00:00:00\", \"2020-07-08T00:00:00\", \"2020-07-09T00:00:00\", \"2020-07-10T00:00:00\", \"2020-07-11T00:00:00\", \"2020-07-12T00:00:00\", \"2020-07-13T00:00:00\", \"2020-07-14T00:00:00\", \"2020-07-15T00:00:00\", \"2020-07-16T00:00:00\", \"2020-07-17T00:00:00\", \"2020-07-18T00:00:00\", \"2020-07-19T00:00:00\", \"2020-07-20T00:00:00\", \"2020-07-21T00:00:00\", \"2020-07-22T00:00:00\", \"2020-07-23T00:00:00\", \"2020-07-24T00:00:00\", \"2020-07-25T00:00:00\", \"2020-07-26T00:00:00\", \"2020-07-27T00:00:00\", \"2020-07-28T00:00:00\", \"2020-07-29T00:00:00\", \"2020-07-30T00:00:00\", \"2020-07-31T00:00:00\", \"2020-08-01T00:00:00\", \"2020-08-02T00:00:00\", \"2020-08-03T00:00:00\", \"2020-08-04T00:00:00\", \"2020-08-05T00:00:00\", \"2020-08-06T00:00:00\", \"2020-08-07T00:00:00\", \"2020-08-08T00:00:00\", \"2020-08-09T00:00:00\", \"2020-08-10T00:00:00\", \"2020-08-11T00:00:00\", \"2020-08-12T00:00:00\", \"2020-08-13T00:00:00\", \"2020-08-14T00:00:00\", \"2020-08-15T00:00:00\", \"2020-08-16T00:00:00\", \"2020-08-17T00:00:00\", \"2020-08-18T00:00:00\", \"2020-08-19T00:00:00\", \"2020-08-20T00:00:00\", \"2020-08-21T00:00:00\", \"2020-08-22T00:00:00\", \"2020-08-23T00:00:00\", \"2020-08-24T00:00:00\", \"2020-08-25T00:00:00\", \"2020-08-26T00:00:00\", \"2020-08-27T00:00:00\", \"2020-08-28T00:00:00\", \"2020-08-29T00:00:00\", \"2020-08-30T00:00:00\", \"2020-08-31T00:00:00\", \"2020-09-01T00:00:00\", \"2020-09-02T00:00:00\", \"2020-09-03T00:00:00\", \"2020-09-04T00:00:00\", \"2020-09-05T00:00:00\", \"2020-09-06T00:00:00\", \"2020-09-07T00:00:00\", \"2020-09-08T00:00:00\", \"2020-09-09T00:00:00\", \"2020-09-10T00:00:00\", \"2020-09-11T00:00:00\", \"2020-09-12T00:00:00\", \"2020-09-13T00:00:00\", \"2020-09-14T00:00:00\", \"2020-09-15T00:00:00\", \"2020-09-16T00:00:00\", \"2020-09-17T00:00:00\", \"2020-09-18T00:00:00\", \"2020-09-19T00:00:00\", \"2020-09-20T00:00:00\", \"2020-09-21T00:00:00\", \"2020-09-22T00:00:00\", \"2020-09-23T00:00:00\", \"2020-09-24T00:00:00\", \"2020-09-25T00:00:00\", \"2020-09-26T00:00:00\", \"2020-09-27T00:00:00\", \"2020-09-28T00:00:00\", \"2020-09-29T00:00:00\", \"2020-09-30T00:00:00\", \"2020-10-01T00:00:00\", \"2020-10-02T00:00:00\", \"2020-10-03T00:00:00\", \"2020-10-04T00:00:00\", \"2020-10-05T00:00:00\", \"2020-10-06T00:00:00\", \"2020-10-07T00:00:00\", \"2020-10-08T00:00:00\", \"2020-10-09T00:00:00\", \"2020-10-10T00:00:00\", \"2020-10-11T00:00:00\", \"2020-10-12T00:00:00\", \"2020-10-13T00:00:00\", \"2020-10-14T00:00:00\", \"2020-10-15T00:00:00\", \"2020-10-16T00:00:00\", \"2020-10-17T00:00:00\", \"2020-10-18T00:00:00\", \"2020-10-19T00:00:00\", \"2020-10-20T00:00:00\", \"2020-10-21T00:00:00\", \"2020-10-22T00:00:00\", \"2020-10-23T00:00:00\", \"2020-10-24T00:00:00\", \"2020-10-25T00:00:00\", \"2020-10-26T00:00:00\", \"2020-10-27T00:00:00\", \"2020-10-28T00:00:00\", \"2020-10-29T00:00:00\", \"2020-10-30T00:00:00\", \"2020-10-31T00:00:00\"], \"xaxis\": \"x\", \"y\": [0.0, 0.0, 1.0, 1.0, 1.0, 3.0, 2.0, 2.0, 2.0, 1.0, 0.0, 1.0, 0.0, 2.0, 1.0, 3.0, 0.0, 1.0, 0.0, 4.0, 2.0, 5.0, 4.0, 6.0, 13.0, 4.0, 12.0, 13.0, 12.0, 13.0, 9.0, 12.0, 7.0, 21.0, 23.0, 23.0, 19.0, 23.0, 15.0, 12.0, 26.0, 24.0, 39.0, 21.0, 28.0, 10.0, 17.0, 39.0, 31.0, 34.0, 32.0, 19.0, 26.0, 33.0, 35.0, 48.0, 42.0, 37.0, 43.0, 32.0, 23.0, 49.0, 52.0, 53.0, 55.0, 61.0, 29.0, 36.0, 53.0, 53.0, 61.0, 59.0, 52.0, 40.0, 38.0, 64.0, 59.0, 71.0, 68.0, 60.0, 50.0, 39.0, 66.0, 53.0, 67.0, 61.0, 54.0, 43.0, 41.0, 66.0, 57.0, 67.0, 45.0, 45.0, 50.0, 41.0, 62.0, 49.0, 55.0, 63.0, 61.0, 40.0, 36.0, 63.0, 60.0, 61.0, 54.0, 54.0, 33.0, 32.0, 56.0, 59.0, 51.0, 48.0, 50.0, 26.0, 23.0, 58.0, 48.0, 55.0, 47.0, 39.0, 34.0, 24.0, 59.0, 47.0, 50.0, 56.0, 38.0, 24.0, 26.0, 50.0, 44.0, 49.0, 44.0, 40.0, 37.0, 23.0, 41.0, 40.0, 42.0, 52.0, 46.0, 28.0, 20.0, 40.0, 37.0, 40.0, 31.0, 36.0, 26.0, 13.0, 39.0, 43.0, 36.0, 38.0, 36.0, 21.0, 13.0, 38.0, 37.0, 33.0, 27.0, 26.0, 23.0, 13.0, 25.0, 24.0, 28.0, 40.0, 26.0, 12.0, 21.0, 28.0, 30.0, 36.0, 31.0, 35.0, 18.0, 17.0, 17.0, 25.0, 30.0, 24.0, 33.0, 21.0, 11.0, 38.0, 28.0, 32.0, 33.0, 36.0, 27.0, 20.0, 41.0, 39.0, 36.0, 40.0, 36.0, 30.0, 26.0, 52.0, 41.0, 44.0, 42.0, 39.0, 24.0, 26.0, 52.0, 52.0, 51.0, 47.0, 44.0, 24.0, 19.0, 25.0, 49.0, 48.0, 52.0, 40.0, 37.0, 24.0, 48.0, 40.0, 49.0, 46.0, 40.0, 33.0, 23.0, 34.0, 22.0, 15.0, 14.0, 20.0, 11.0], \"yaxis\": \"y\"}],                        {\"legend\": {\"title\": {\"text\": \"Munic\\u00edpio\"}, \"tracegroupgap\": 0}, \"margin\": {\"t\": 60}, \"template\": {\"data\": {\"bar\": [{\"error_x\": {\"color\": \"#2a3f5f\"}, \"error_y\": {\"color\": \"#2a3f5f\"}, \"marker\": {\"line\": {\"color\": \"#E5ECF6\", \"width\": 0.5}}, \"type\": \"bar\"}], \"barpolar\": [{\"marker\": {\"line\": {\"color\": \"#E5ECF6\", \"width\": 0.5}}, \"type\": \"barpolar\"}], \"carpet\": [{\"aaxis\": {\"endlinecolor\": \"#2a3f5f\", \"gridcolor\": \"white\", \"linecolor\": \"white\", \"minorgridcolor\": \"white\", \"startlinecolor\": \"#2a3f5f\"}, \"baxis\": {\"endlinecolor\": \"#2a3f5f\", \"gridcolor\": \"white\", \"linecolor\": \"white\", \"minorgridcolor\": \"white\", \"startlinecolor\": \"#2a3f5f\"}, \"type\": \"carpet\"}], \"choropleth\": [{\"colorbar\": {\"outlinewidth\": 0, \"ticks\": \"\"}, \"type\": \"choropleth\"}], \"contour\": [{\"colorbar\": {\"outlinewidth\": 0, \"ticks\": \"\"}, \"colorscale\": [[0.0, \"#0d0887\"], [0.1111111111111111, \"#46039f\"], [0.2222222222222222, \"#7201a8\"], [0.3333333333333333, \"#9c179e\"], [0.4444444444444444, \"#bd3786\"], [0.5555555555555556, \"#d8576b\"], [0.6666666666666666, \"#ed7953\"], [0.7777777777777778, \"#fb9f3a\"], [0.8888888888888888, \"#fdca26\"], [1.0, \"#f0f921\"]], \"type\": \"contour\"}], \"contourcarpet\": [{\"colorbar\": {\"outlinewidth\": 0, \"ticks\": \"\"}, \"type\": \"contourcarpet\"}], \"heatmap\": [{\"colorbar\": {\"outlinewidth\": 0, \"ticks\": \"\"}, \"colorscale\": [[0.0, \"#0d0887\"], [0.1111111111111111, \"#46039f\"], [0.2222222222222222, \"#7201a8\"], [0.3333333333333333, \"#9c179e\"], [0.4444444444444444, \"#bd3786\"], [0.5555555555555556, \"#d8576b\"], [0.6666666666666666, \"#ed7953\"], [0.7777777777777778, \"#fb9f3a\"], [0.8888888888888888, \"#fdca26\"], [1.0, \"#f0f921\"]], \"type\": \"heatmap\"}], \"heatmapgl\": [{\"colorbar\": {\"outlinewidth\": 0, \"ticks\": \"\"}, \"colorscale\": [[0.0, \"#0d0887\"], [0.1111111111111111, \"#46039f\"], [0.2222222222222222, \"#7201a8\"], [0.3333333333333333, \"#9c179e\"], [0.4444444444444444, \"#bd3786\"], [0.5555555555555556, \"#d8576b\"], [0.6666666666666666, \"#ed7953\"], [0.7777777777777778, \"#fb9f3a\"], [0.8888888888888888, \"#fdca26\"], [1.0, \"#f0f921\"]], \"type\": \"heatmapgl\"}], \"histogram\": [{\"marker\": {\"colorbar\": {\"outlinewidth\": 0, \"ticks\": \"\"}}, \"type\": \"histogram\"}], \"histogram2d\": [{\"colorbar\": {\"outlinewidth\": 0, \"ticks\": \"\"}, \"colorscale\": [[0.0, \"#0d0887\"], [0.1111111111111111, \"#46039f\"], [0.2222222222222222, \"#7201a8\"], [0.3333333333333333, \"#9c179e\"], [0.4444444444444444, \"#bd3786\"], [0.5555555555555556, \"#d8576b\"], [0.6666666666666666, \"#ed7953\"], [0.7777777777777778, \"#fb9f3a\"], [0.8888888888888888, \"#fdca26\"], [1.0, \"#f0f921\"]], \"type\": \"histogram2d\"}], \"histogram2dcontour\": [{\"colorbar\": {\"outlinewidth\": 0, \"ticks\": \"\"}, \"colorscale\": [[0.0, \"#0d0887\"], [0.1111111111111111, \"#46039f\"], [0.2222222222222222, \"#7201a8\"], [0.3333333333333333, \"#9c179e\"], [0.4444444444444444, \"#bd3786\"], [0.5555555555555556, \"#d8576b\"], [0.6666666666666666, \"#ed7953\"], [0.7777777777777778, \"#fb9f3a\"], [0.8888888888888888, \"#fdca26\"], [1.0, \"#f0f921\"]], \"type\": \"histogram2dcontour\"}], \"mesh3d\": [{\"colorbar\": {\"outlinewidth\": 0, \"ticks\": \"\"}, \"type\": \"mesh3d\"}], \"parcoords\": [{\"line\": {\"colorbar\": {\"outlinewidth\": 0, \"ticks\": \"\"}}, \"type\": \"parcoords\"}], \"pie\": [{\"automargin\": true, \"type\": \"pie\"}], \"scatter\": [{\"marker\": {\"colorbar\": {\"outlinewidth\": 0, \"ticks\": \"\"}}, \"type\": \"scatter\"}], \"scatter3d\": [{\"line\": {\"colorbar\": {\"outlinewidth\": 0, \"ticks\": \"\"}}, \"marker\": {\"colorbar\": {\"outlinewidth\": 0, \"ticks\": \"\"}}, \"type\": \"scatter3d\"}], \"scattercarpet\": [{\"marker\": {\"colorbar\": {\"outlinewidth\": 0, \"ticks\": \"\"}}, \"type\": \"scattercarpet\"}], \"scattergeo\": [{\"marker\": {\"colorbar\": {\"outlinewidth\": 0, \"ticks\": \"\"}}, \"type\": \"scattergeo\"}], \"scattergl\": [{\"marker\": {\"colorbar\": {\"outlinewidth\": 0, \"ticks\": \"\"}}, \"type\": \"scattergl\"}], \"scattermapbox\": [{\"marker\": {\"colorbar\": {\"outlinewidth\": 0, \"ticks\": \"\"}}, \"type\": \"scattermapbox\"}], \"scatterpolar\": [{\"marker\": {\"colorbar\": {\"outlinewidth\": 0, \"ticks\": \"\"}}, \"type\": \"scatterpolar\"}], \"scatterpolargl\": [{\"marker\": {\"colorbar\": {\"outlinewidth\": 0, \"ticks\": \"\"}}, \"type\": \"scatterpolargl\"}], \"scatterternary\": [{\"marker\": {\"colorbar\": {\"outlinewidth\": 0, \"ticks\": \"\"}}, \"type\": \"scatterternary\"}], \"surface\": [{\"colorbar\": {\"outlinewidth\": 0, \"ticks\": \"\"}, \"colorscale\": [[0.0, \"#0d0887\"], [0.1111111111111111, \"#46039f\"], [0.2222222222222222, \"#7201a8\"], [0.3333333333333333, \"#9c179e\"], [0.4444444444444444, \"#bd3786\"], [0.5555555555555556, \"#d8576b\"], [0.6666666666666666, \"#ed7953\"], [0.7777777777777778, \"#fb9f3a\"], [0.8888888888888888, \"#fdca26\"], [1.0, \"#f0f921\"]], \"type\": \"surface\"}], \"table\": [{\"cells\": {\"fill\": {\"color\": \"#EBF0F8\"}, \"line\": {\"color\": \"white\"}}, \"header\": {\"fill\": {\"color\": \"#C8D4E3\"}, \"line\": {\"color\": \"white\"}}, \"type\": \"table\"}]}, \"layout\": {\"annotationdefaults\": {\"arrowcolor\": \"#2a3f5f\", \"arrowhead\": 0, \"arrowwidth\": 1}, \"coloraxis\": {\"colorbar\": {\"outlinewidth\": 0, \"ticks\": \"\"}}, \"colorscale\": {\"diverging\": [[0, \"#8e0152\"], [0.1, \"#c51b7d\"], [0.2, \"#de77ae\"], [0.3, \"#f1b6da\"], [0.4, \"#fde0ef\"], [0.5, \"#f7f7f7\"], [0.6, \"#e6f5d0\"], [0.7, \"#b8e186\"], [0.8, \"#7fbc41\"], [0.9, \"#4d9221\"], [1, \"#276419\"]], \"sequential\": [[0.0, \"#0d0887\"], [0.1111111111111111, \"#46039f\"], [0.2222222222222222, \"#7201a8\"], [0.3333333333333333, \"#9c179e\"], [0.4444444444444444, \"#bd3786\"], [0.5555555555555556, \"#d8576b\"], [0.6666666666666666, \"#ed7953\"], [0.7777777777777778, \"#fb9f3a\"], [0.8888888888888888, \"#fdca26\"], [1.0, \"#f0f921\"]], \"sequentialminus\": [[0.0, \"#0d0887\"], [0.1111111111111111, \"#46039f\"], [0.2222222222222222, \"#7201a8\"], [0.3333333333333333, \"#9c179e\"], [0.4444444444444444, \"#bd3786\"], [0.5555555555555556, \"#d8576b\"], [0.6666666666666666, \"#ed7953\"], [0.7777777777777778, \"#fb9f3a\"], [0.8888888888888888, \"#fdca26\"], [1.0, \"#f0f921\"]]}, \"colorway\": [\"#636efa\", \"#EF553B\", \"#00cc96\", \"#ab63fa\", \"#FFA15A\", \"#19d3f3\", \"#FF6692\", \"#B6E880\", \"#FF97FF\", \"#FECB52\"], \"font\": {\"color\": \"#2a3f5f\"}, \"geo\": {\"bgcolor\": \"white\", \"lakecolor\": \"white\", \"landcolor\": \"#E5ECF6\", \"showlakes\": true, \"showland\": true, \"subunitcolor\": \"white\"}, \"hoverlabel\": {\"align\": \"left\"}, \"hovermode\": \"closest\", \"mapbox\": {\"style\": \"light\"}, \"paper_bgcolor\": \"white\", \"plot_bgcolor\": \"#E5ECF6\", \"polar\": {\"angularaxis\": {\"gridcolor\": \"white\", \"linecolor\": \"white\", \"ticks\": \"\"}, \"bgcolor\": \"#E5ECF6\", \"radialaxis\": {\"gridcolor\": \"white\", \"linecolor\": \"white\", \"ticks\": \"\"}}, \"scene\": {\"xaxis\": {\"backgroundcolor\": \"#E5ECF6\", \"gridcolor\": \"white\", \"gridwidth\": 2, \"linecolor\": \"white\", \"showbackground\": true, \"ticks\": \"\", \"zerolinecolor\": \"white\"}, \"yaxis\": {\"backgroundcolor\": \"#E5ECF6\", \"gridcolor\": \"white\", \"gridwidth\": 2, \"linecolor\": \"white\", \"showbackground\": true, \"ticks\": \"\", \"zerolinecolor\": \"white\"}, \"zaxis\": {\"backgroundcolor\": \"#E5ECF6\", \"gridcolor\": \"white\", \"gridwidth\": 2, \"linecolor\": \"white\", \"showbackground\": true, \"ticks\": \"\", \"zerolinecolor\": \"white\"}}, \"shapedefaults\": {\"line\": {\"color\": \"#2a3f5f\"}}, \"ternary\": {\"aaxis\": {\"gridcolor\": \"white\", \"linecolor\": \"white\", \"ticks\": \"\"}, \"baxis\": {\"gridcolor\": \"white\", \"linecolor\": \"white\", \"ticks\": \"\"}, \"bgcolor\": \"#E5ECF6\", \"caxis\": {\"gridcolor\": \"white\", \"linecolor\": \"white\", \"ticks\": \"\"}}, \"title\": {\"x\": 0.05}, \"xaxis\": {\"automargin\": true, \"gridcolor\": \"white\", \"linecolor\": \"white\", \"ticks\": \"\", \"title\": {\"standoff\": 15}, \"zerolinecolor\": \"white\", \"zerolinewidth\": 2}, \"yaxis\": {\"automargin\": true, \"gridcolor\": \"white\", \"linecolor\": \"white\", \"ticks\": \"\", \"title\": {\"standoff\": 15}, \"zerolinecolor\": \"white\", \"zerolinewidth\": 2}}}, \"xaxis\": {\"anchor\": \"y\", \"domain\": [0.0, 1.0], \"title\": {\"text\": \"Data\"}}, \"yaxis\": {\"anchor\": \"x\", \"domain\": [0.0, 1.0], \"title\": {\"text\": \"\\u00d3bitos\"}}},                        {\"responsive\": true}                    ).then(function(){\n",
       "                            \n",
       "var gd = document.getElementById('62faf8af-9311-4a23-8010-9d40aef0125b');\n",
       "var x = new MutationObserver(function (mutations, observer) {{\n",
       "        var display = window.getComputedStyle(gd).display;\n",
       "        if (!display || display === 'none') {{\n",
       "            console.log([gd, 'removed!']);\n",
       "            Plotly.purge(gd);\n",
       "            observer.disconnect();\n",
       "        }}\n",
       "}});\n",
       "\n",
       "// Listen for the removal of the full notebook cells\n",
       "var notebookContainer = gd.closest('#notebook-container');\n",
       "if (notebookContainer) {{\n",
       "    x.observe(notebookContainer, {childList: true});\n",
       "}}\n",
       "\n",
       "// Listen for the clearing of the current output cell\n",
       "var outputEl = gd.closest('.output');\n",
       "if (outputEl) {{\n",
       "    x.observe(outputEl, {childList: true});\n",
       "}}\n",
       "\n",
       "                        })                };                });            </script>        </div>"
      ]
     },
     "metadata": {},
     "output_type": "display_data"
    }
   ],
   "source": [
    "df_bar = df_counts.copy()\n",
    "\n",
    "fig = px.line(\n",
    "    df_counts.groupby(['DataNotificacao', 'Municipio'])\n",
    "        .sum()\n",
    "        .reset_index()\n",
    "        .query('Municipio == \"VITORIA\" | Municipio == \"SERRA\"'),\n",
    "    x=\"DataNotificacao\",\n",
    "    y=\"Obitos\",\n",
    "    color=\"Municipio\",\n",
    "    hover_name=\"Municipio\",\n",
    "    labels={\n",
    "        'DataNotificacao': 'Data',\n",
    "        'Obitos': 'Óbitos',\n",
    "        'Municipio': 'Município'\n",
    "    }\n",
    ")\n",
    "\n",
    "fig.show()"
   ]
  }
 ],
 "metadata": {
  "kernelspec": {
   "display_name": "Python 3",
   "language": "python",
   "name": "python3"
  },
  "language_info": {
   "codemirror_mode": {
    "name": "ipython",
    "version": 3
   },
   "file_extension": ".py",
   "mimetype": "text/x-python",
   "name": "python",
   "nbconvert_exporter": "python",
   "pygments_lexer": "ipython3",
   "version": "3.8.5"
  }
 },
 "nbformat": 4,
 "nbformat_minor": 4
}
