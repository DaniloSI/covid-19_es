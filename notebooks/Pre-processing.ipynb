{
 "cells": [
  {
   "cell_type": "markdown",
   "metadata": {},
   "source": [
    "# Tratamento dos Dados"
   ]
  },
  {
   "cell_type": "code",
   "execution_count": 2,
   "metadata": {},
   "outputs": [],
   "source": [
    "import pandas as pd\n",
    "from unidecode import unidecode"
   ]
  },
  {
   "cell_type": "code",
   "execution_count": 3,
   "metadata": {},
   "outputs": [
    {
     "data": {
      "text/html": [
       "<div>\n",
       "<style scoped>\n",
       "    .dataframe tbody tr th:only-of-type {\n",
       "        vertical-align: middle;\n",
       "    }\n",
       "\n",
       "    .dataframe tbody tr th {\n",
       "        vertical-align: top;\n",
       "    }\n",
       "\n",
       "    .dataframe thead th {\n",
       "        text-align: right;\n",
       "    }\n",
       "</style>\n",
       "<table border=\"1\" class=\"dataframe\">\n",
       "  <thead>\n",
       "    <tr style=\"text-align: right;\">\n",
       "      <th></th>\n",
       "      <th>DataNotificacao</th>\n",
       "      <th>DataCadastro</th>\n",
       "      <th>DataDiagnostico</th>\n",
       "      <th>DataColeta_RT_PCR</th>\n",
       "      <th>DataColetaTesteRapido</th>\n",
       "      <th>DataColetaSorologia</th>\n",
       "      <th>DataColetaSorologiaIGG</th>\n",
       "      <th>DataEncerramento</th>\n",
       "      <th>DataObito</th>\n",
       "      <th>Classificacao</th>\n",
       "      <th>...</th>\n",
       "      <th>FicouInternado</th>\n",
       "      <th>ViagemBrasil</th>\n",
       "      <th>ViagemInternacional</th>\n",
       "      <th>ProfissionalSaude</th>\n",
       "      <th>PossuiDeficiencia</th>\n",
       "      <th>MoradorDeRua</th>\n",
       "      <th>ResultadoRT_PCR</th>\n",
       "      <th>ResultadoTesteRapido</th>\n",
       "      <th>ResultadoSorologia</th>\n",
       "      <th>ResultadoSorologia_IGG</th>\n",
       "    </tr>\n",
       "  </thead>\n",
       "  <tbody>\n",
       "    <tr>\n",
       "      <th>0</th>\n",
       "      <td>2020-11-05</td>\n",
       "      <td>2020-11-05</td>\n",
       "      <td>2020-11-04</td>\n",
       "      <td>NaN</td>\n",
       "      <td>NaN</td>\n",
       "      <td>NaN</td>\n",
       "      <td>NaN</td>\n",
       "      <td>NaN</td>\n",
       "      <td>NaN</td>\n",
       "      <td>Suspeito</td>\n",
       "      <td>...</td>\n",
       "      <td>Não</td>\n",
       "      <td>Não</td>\n",
       "      <td>Não</td>\n",
       "      <td>Não</td>\n",
       "      <td>Não</td>\n",
       "      <td>Não</td>\n",
       "      <td>Não Informado</td>\n",
       "      <td>Não Informado</td>\n",
       "      <td>Não Informado</td>\n",
       "      <td>Não Informado</td>\n",
       "    </tr>\n",
       "    <tr>\n",
       "      <th>1</th>\n",
       "      <td>2020-11-05</td>\n",
       "      <td>2020-11-05</td>\n",
       "      <td>2020-11-04</td>\n",
       "      <td>NaN</td>\n",
       "      <td>NaN</td>\n",
       "      <td>NaN</td>\n",
       "      <td>NaN</td>\n",
       "      <td>NaN</td>\n",
       "      <td>NaN</td>\n",
       "      <td>Suspeito</td>\n",
       "      <td>...</td>\n",
       "      <td>Não</td>\n",
       "      <td>Não</td>\n",
       "      <td>Não</td>\n",
       "      <td>Não</td>\n",
       "      <td>Não</td>\n",
       "      <td>Não</td>\n",
       "      <td>Não Informado</td>\n",
       "      <td>Não Informado</td>\n",
       "      <td>Não Informado</td>\n",
       "      <td>Não Informado</td>\n",
       "    </tr>\n",
       "    <tr>\n",
       "      <th>2</th>\n",
       "      <td>2020-11-05</td>\n",
       "      <td>2020-11-05</td>\n",
       "      <td>2020-11-05</td>\n",
       "      <td>NaN</td>\n",
       "      <td>2020-10-23</td>\n",
       "      <td>NaN</td>\n",
       "      <td>NaN</td>\n",
       "      <td>2020-11-05</td>\n",
       "      <td>NaN</td>\n",
       "      <td>Descartados</td>\n",
       "      <td>...</td>\n",
       "      <td>Não Informado</td>\n",
       "      <td>Não Informado</td>\n",
       "      <td>Não Informado</td>\n",
       "      <td>Não</td>\n",
       "      <td>Não</td>\n",
       "      <td>Não</td>\n",
       "      <td>Não Informado</td>\n",
       "      <td>Negativo</td>\n",
       "      <td>Não Informado</td>\n",
       "      <td>Não Informado</td>\n",
       "    </tr>\n",
       "    <tr>\n",
       "      <th>3</th>\n",
       "      <td>2020-11-05</td>\n",
       "      <td>2020-11-05</td>\n",
       "      <td>2020-10-27</td>\n",
       "      <td>2020-11-03</td>\n",
       "      <td>NaN</td>\n",
       "      <td>NaN</td>\n",
       "      <td>NaN</td>\n",
       "      <td>NaN</td>\n",
       "      <td>NaN</td>\n",
       "      <td>Suspeito</td>\n",
       "      <td>...</td>\n",
       "      <td>Sim</td>\n",
       "      <td>Não Informado</td>\n",
       "      <td>Não Informado</td>\n",
       "      <td>Não Informado</td>\n",
       "      <td>Não</td>\n",
       "      <td>Não</td>\n",
       "      <td>Não Informado</td>\n",
       "      <td>Não Informado</td>\n",
       "      <td>Não Informado</td>\n",
       "      <td>Não Informado</td>\n",
       "    </tr>\n",
       "    <tr>\n",
       "      <th>4</th>\n",
       "      <td>2020-11-05</td>\n",
       "      <td>2020-11-05</td>\n",
       "      <td>2020-11-02</td>\n",
       "      <td>2020-11-05</td>\n",
       "      <td>NaN</td>\n",
       "      <td>NaN</td>\n",
       "      <td>NaN</td>\n",
       "      <td>NaN</td>\n",
       "      <td>NaN</td>\n",
       "      <td>Suspeito</td>\n",
       "      <td>...</td>\n",
       "      <td>Não Informado</td>\n",
       "      <td>Não Informado</td>\n",
       "      <td>Não Informado</td>\n",
       "      <td>Não</td>\n",
       "      <td>Não</td>\n",
       "      <td>Não</td>\n",
       "      <td>Não Informado</td>\n",
       "      <td>Não Informado</td>\n",
       "      <td>Não Informado</td>\n",
       "      <td>Não Informado</td>\n",
       "    </tr>\n",
       "  </tbody>\n",
       "</table>\n",
       "<p>5 rows × 43 columns</p>\n",
       "</div>"
      ],
      "text/plain": [
       "  DataNotificacao DataCadastro DataDiagnostico DataColeta_RT_PCR  \\\n",
       "0      2020-11-05   2020-11-05      2020-11-04               NaN   \n",
       "1      2020-11-05   2020-11-05      2020-11-04               NaN   \n",
       "2      2020-11-05   2020-11-05      2020-11-05               NaN   \n",
       "3      2020-11-05   2020-11-05      2020-10-27        2020-11-03   \n",
       "4      2020-11-05   2020-11-05      2020-11-02        2020-11-05   \n",
       "\n",
       "  DataColetaTesteRapido DataColetaSorologia DataColetaSorologiaIGG  \\\n",
       "0                   NaN                 NaN                    NaN   \n",
       "1                   NaN                 NaN                    NaN   \n",
       "2            2020-10-23                 NaN                    NaN   \n",
       "3                   NaN                 NaN                    NaN   \n",
       "4                   NaN                 NaN                    NaN   \n",
       "\n",
       "  DataEncerramento DataObito Classificacao  ... FicouInternado   ViagemBrasil  \\\n",
       "0              NaN       NaN      Suspeito  ...            Não            Não   \n",
       "1              NaN       NaN      Suspeito  ...            Não            Não   \n",
       "2       2020-11-05       NaN   Descartados  ...  Não Informado  Não Informado   \n",
       "3              NaN       NaN      Suspeito  ...            Sim  Não Informado   \n",
       "4              NaN       NaN      Suspeito  ...  Não Informado  Não Informado   \n",
       "\n",
       "  ViagemInternacional ProfissionalSaude PossuiDeficiencia MoradorDeRua  \\\n",
       "0                 Não               Não               Não          Não   \n",
       "1                 Não               Não               Não          Não   \n",
       "2       Não Informado               Não               Não          Não   \n",
       "3       Não Informado     Não Informado               Não          Não   \n",
       "4       Não Informado               Não               Não          Não   \n",
       "\n",
       "  ResultadoRT_PCR ResultadoTesteRapido ResultadoSorologia  \\\n",
       "0   Não Informado        Não Informado      Não Informado   \n",
       "1   Não Informado        Não Informado      Não Informado   \n",
       "2   Não Informado             Negativo      Não Informado   \n",
       "3   Não Informado        Não Informado      Não Informado   \n",
       "4   Não Informado        Não Informado      Não Informado   \n",
       "\n",
       "  ResultadoSorologia_IGG  \n",
       "0          Não Informado  \n",
       "1          Não Informado  \n",
       "2          Não Informado  \n",
       "3          Não Informado  \n",
       "4          Não Informado  \n",
       "\n",
       "[5 rows x 43 columns]"
      ]
     },
     "execution_count": 3,
     "metadata": {},
     "output_type": "execute_result"
    }
   ],
   "source": [
    "df = pd.read_csv('https://bi.static.es.gov.br/covid19/MICRODADOS.csv', sep = ';', encoding = 'cp1252')\n",
    "df.head()"
   ]
  },
  {
   "cell_type": "code",
   "execution_count": 4,
   "metadata": {},
   "outputs": [
    {
     "name": "stdout",
     "output_type": "stream",
     "text": [
      "Classificacão: ['Suspeito' 'Descartados' 'Confirmados']\n",
      "Evolução: ['-' 'Ignorado' 'Cura' 'Óbito pelo COVID-19' 'Óbito por outras causas']\n"
     ]
    }
   ],
   "source": [
    "print('Classificacão: {}'.format(df['Classificacao'].unique()))\n",
    "print('Evolução: {}'.format(df['Evolucao'].unique()))"
   ]
  },
  {
   "cell_type": "code",
   "execution_count": 5,
   "metadata": {},
   "outputs": [
    {
     "name": "stdout",
     "output_type": "stream",
     "text": [
      "TOTAIS\n",
      "=================\n",
      "  - CASOS: 159813\n",
      "  - ÓBITOS: 3896 (2.4%)\n",
      "  - CURA: 149503 (93.5%)\n"
     ]
    }
   ],
   "source": [
    "total_casos = df.query('Classificacao == \"Confirmados\"').shape[0]\n",
    "total_obitos = df.query('Evolucao == \"Óbito pelo COVID-19\"').shape[0]\n",
    "total_curas = df.query('Evolucao == \"Cura\"').shape[0]\n",
    "\n",
    "print('TOTAIS')\n",
    "print('=================')\n",
    "print('  - CASOS: {}'.format(total_casos))\n",
    "print('  - ÓBITOS: {} ({}%)'.format(total_obitos, round((total_obitos * 100) / total_casos, 1)))\n",
    "print('  - CURA: {} ({}%)'.format(total_curas, round((total_curas * 100) / total_casos, 1)))"
   ]
  },
  {
   "cell_type": "code",
   "execution_count": 6,
   "metadata": {},
   "outputs": [],
   "source": [
    "df['DataNotificacao'] = pd.to_datetime(df['DataNotificacao'])\n",
    "df.sort_values('DataNotificacao', inplace=True)\n",
    "df = df.query('Classificacao == \"Confirmados\"').reset_index(drop=True)"
   ]
  },
  {
   "cell_type": "markdown",
   "metadata": {},
   "source": [
    "## Padroniza nome de municípios e bairros"
   ]
  },
  {
   "cell_type": "code",
   "execution_count": 7,
   "metadata": {},
   "outputs": [],
   "source": [
    "df['Municipio'] = df['Municipio'].apply(lambda x: unidecode(str(x)).upper())\n",
    "df['Bairro'] = df['Bairro'].apply(lambda x: unidecode(str(x)).upper())"
   ]
  },
  {
   "cell_type": "markdown",
   "metadata": {},
   "source": [
    "## Cálculo de Confirmados"
   ]
  },
  {
   "cell_type": "code",
   "execution_count": 8,
   "metadata": {
    "scrolled": true
   },
   "outputs": [],
   "source": [
    "df['ConfirmadosAcumulado'] = df[['Municipio', 'Bairro', 'DataNotificacao']]\\\n",
    "    .groupby(['Municipio', 'Bairro'])\\\n",
    "    .cumcount() + 1\n",
    "\n",
    "df['Confirmados'] = df[['Municipio', 'Bairro', 'DataNotificacao']]\\\n",
    "    .groupby(['Municipio', 'Bairro', 'DataNotificacao'])\\\n",
    "    .cumcount() + 1"
   ]
  },
  {
   "cell_type": "markdown",
   "metadata": {},
   "source": [
    "## Cálculo de Óbitos"
   ]
  },
  {
   "cell_type": "code",
   "execution_count": 9,
   "metadata": {},
   "outputs": [],
   "source": [
    "df['Obitos'] = df['Evolucao'].apply(lambda evolucao: 1 if evolucao == 'Óbito pelo COVID-19' else 0)\n",
    "\n",
    "df['ObitosAcumulado'] = df[['Municipio', 'Bairro', 'DataNotificacao', 'Obitos']]\\\n",
    "    .groupby(['Municipio', 'Bairro'])\\\n",
    "    .cumsum()\n",
    "\n",
    "df['Obitos'] = df[['Municipio', 'Bairro', 'DataNotificacao', 'Obitos']]\\\n",
    "    .groupby(['Municipio', 'Bairro', 'DataNotificacao'])\\\n",
    "    .cumsum()"
   ]
  },
  {
   "cell_type": "markdown",
   "metadata": {},
   "source": [
    "## Cálculo de Curas"
   ]
  },
  {
   "cell_type": "code",
   "execution_count": 10,
   "metadata": {},
   "outputs": [],
   "source": [
    "df['Curas'] = df['Evolucao'].apply(lambda evolucao: 1 if evolucao == 'Cura' else 0)\n",
    "\n",
    "df['CurasAcumulado'] = df[['Municipio', 'Bairro', 'DataNotificacao', 'Curas']]\\\n",
    "    .groupby(['Municipio', 'Bairro'])\\\n",
    "    .cumsum()\n",
    "\n",
    "df['Curas'] = df[['Municipio', 'Bairro', 'DataNotificacao', 'Curas']]\\\n",
    "    .groupby(['Municipio', 'Bairro', 'DataNotificacao'])\\\n",
    "    .cumsum()"
   ]
  },
  {
   "cell_type": "markdown",
   "metadata": {},
   "source": [
    "## Contagem de Casos, Óbitos e Curas"
   ]
  },
  {
   "cell_type": "code",
   "execution_count": 11,
   "metadata": {},
   "outputs": [],
   "source": [
    "grupo_base = ['DataNotificacao', 'Municipio', 'Bairro']\n",
    "\n",
    "datas = df[['DataNotificacao']].drop_duplicates().reset_index(drop=True)\n",
    "municipios_bairros = df[['Municipio', 'Bairro']].drop_duplicates().reset_index(drop=True)\n",
    "\n",
    "datas['key'] = 0\n",
    "municipios_bairros['key'] = 0"
   ]
  },
  {
   "cell_type": "code",
   "execution_count": 12,
   "metadata": {},
   "outputs": [],
   "source": [
    "df_counts = pd.merge(datas, municipios_bairros, how='outer')[grupo_base]\n",
    "\n",
    "df_counts = df_counts.merge(\n",
    "    df[[\n",
    "        'Municipio',\n",
    "        'Bairro',\n",
    "        'DataNotificacao',\n",
    "        'Confirmados',\n",
    "        'Obitos',\n",
    "        'Curas',\n",
    "        'ConfirmadosAcumulado',\n",
    "        'ObitosAcumulado',\n",
    "        'CurasAcumulado'\n",
    "    ]].drop_duplicates(grupo_base, keep='last')\\\n",
    "        .dropna(),\n",
    "    on=grupo_base,\n",
    "    how='left'\n",
    ")\n",
    "\n",
    "df_counts.fillna(\n",
    "    {\n",
    "        'Confirmados': 0,\n",
    "        'Obitos': 0,\n",
    "        'Curas': 0,\n",
    "    },\n",
    "    inplace=True\n",
    ")\n",
    "\n",
    "columns_ffill = ['ConfirmadosAcumulado', 'ObitosAcumulado', 'CurasAcumulado']\n",
    "\n",
    "df_counts[columns_ffill] = df_counts.groupby(['Municipio', 'Bairro'])\\\n",
    "    .fillna(method='ffill')\\\n",
    "    .fillna(0)\\\n",
    "    [columns_ffill]"
   ]
  },
  {
   "cell_type": "code",
   "execution_count": 13,
   "metadata": {},
   "outputs": [],
   "source": [
    "df_counts.to_csv('../notebooks_output/microdados_pre-processed.csv', sep=',', index=False, encoding='UTF-8')"
   ]
  }
 ],
 "metadata": {
  "kernelspec": {
   "display_name": "Python 3",
   "language": "python",
   "name": "python3"
  },
  "language_info": {
   "codemirror_mode": {
    "name": "ipython",
    "version": 3
   },
   "file_extension": ".py",
   "mimetype": "text/x-python",
   "name": "python",
   "nbconvert_exporter": "python",
   "pygments_lexer": "ipython3",
   "version": "3.8.5"
  }
 },
 "nbformat": 4,
 "nbformat_minor": 4
}
