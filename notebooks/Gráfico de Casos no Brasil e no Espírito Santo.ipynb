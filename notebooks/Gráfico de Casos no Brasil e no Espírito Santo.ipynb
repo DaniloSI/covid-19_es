{
 "cells": [
  {
   "cell_type": "markdown",
   "id": "7e6b4bc4",
   "metadata": {},
   "source": [
    "## Imports"
   ]
  },
  {
   "cell_type": "code",
   "execution_count": 1,
   "id": "e0386356",
   "metadata": {},
   "outputs": [],
   "source": [
    "import pandas as pd\n",
    "import plotly.graph_objects as go\n",
    "from datetime import date"
   ]
  },
  {
   "cell_type": "markdown",
   "id": "334f39f2",
   "metadata": {},
   "source": [
    "## Funções Auxiliares"
   ]
  },
  {
   "cell_type": "code",
   "execution_count": 2,
   "id": "520716a1",
   "metadata": {},
   "outputs": [],
   "source": [
    "def make_graph(df, x_prop, y_prop_confirmados, y_prop_media_movel):\n",
    "    fig = go.Figure()\n",
    "\n",
    "    fig.add_trace(go.Bar(\n",
    "        x = df[x_prop],\n",
    "        y = df[y_prop_confirmados],\n",
    "        name = 'Casos Confirmados'\n",
    "    ))\n",
    "\n",
    "    fig.add_trace(go.Scatter(\n",
    "        x = df[x_prop],\n",
    "        y = df[y_prop_media_movel],\n",
    "        fillcolor = '#ff0000',\n",
    "        name = 'Média Móvel'\n",
    "    ))\n",
    "\n",
    "    fig.update_layout(\n",
    "        margin=dict(t=40, r=20, b=40, l=20),\n",
    "        legend=dict(\n",
    "            orientation=\"h\",\n",
    "            xanchor=\"center\",\n",
    "            x=0.5\n",
    "        )\n",
    "    )\n",
    "    \n",
    "    return fig"
   ]
  },
  {
   "cell_type": "markdown",
   "id": "9b819b4c",
   "metadata": {},
   "source": [
    "## Brasil"
   ]
  },
  {
   "cell_type": "code",
   "execution_count": 3,
   "id": "8164eafc",
   "metadata": {
    "scrolled": false
   },
   "outputs": [
    {
     "data": {
      "text/html": [
       "<div>\n",
       "<style scoped>\n",
       "    .dataframe tbody tr th:only-of-type {\n",
       "        vertical-align: middle;\n",
       "    }\n",
       "\n",
       "    .dataframe tbody tr th {\n",
       "        vertical-align: top;\n",
       "    }\n",
       "\n",
       "    .dataframe thead th {\n",
       "        text-align: right;\n",
       "    }\n",
       "</style>\n",
       "<table border=\"1\" class=\"dataframe\">\n",
       "  <thead>\n",
       "    <tr style=\"text-align: right;\">\n",
       "      <th></th>\n",
       "      <th>Data</th>\n",
       "      <th>Acumulado</th>\n",
       "    </tr>\n",
       "  </thead>\n",
       "  <tbody>\n",
       "    <tr>\n",
       "      <th>0</th>\n",
       "      <td>1/22/20</td>\n",
       "      <td>0</td>\n",
       "    </tr>\n",
       "    <tr>\n",
       "      <th>1</th>\n",
       "      <td>1/23/20</td>\n",
       "      <td>0</td>\n",
       "    </tr>\n",
       "    <tr>\n",
       "      <th>2</th>\n",
       "      <td>1/24/20</td>\n",
       "      <td>0</td>\n",
       "    </tr>\n",
       "  </tbody>\n",
       "</table>\n",
       "</div>"
      ],
      "text/plain": [
       "      Data  Acumulado\n",
       "0  1/22/20          0\n",
       "1  1/23/20          0\n",
       "2  1/24/20          0"
      ]
     },
     "execution_count": 3,
     "metadata": {},
     "output_type": "execute_result"
    }
   ],
   "source": [
    "url_br = 'https://raw.githubusercontent.com/CSSEGISandData/COVID-19/master/csse_covid_19_data/csse_covid_19_time_series/time_series_covid19_confirmed_global.csv'\n",
    "df_br = pd.read_csv(url_br)\\\n",
    "    .rename({'Country/Region': 'Country'}, axis=1)\\\n",
    "    .query('Country == \"Brazil\"')\\\n",
    "    .iloc[:,4:].T.reset_index()\n",
    "\n",
    "df_br.columns = ['Data', 'Acumulado']\n",
    "df_br.head(3)"
   ]
  },
  {
   "cell_type": "code",
   "execution_count": 4,
   "id": "d1eb5cb5",
   "metadata": {},
   "outputs": [],
   "source": [
    "df_br['Quantidade'] = df_br['Acumulado'] - df_br['Acumulado'].shift(1).fillna(0)\n",
    "df_br['MA'] = df_br['Quantidade'].rolling(window=7).mean()"
   ]
  },
  {
   "cell_type": "code",
   "execution_count": 5,
   "id": "18d29bf8",
   "metadata": {},
   "outputs": [],
   "source": [
    "def convert_date(str_date):\n",
    "    month, day, year = str_date.split('/')\n",
    "    return date(int('20' + year), int(month), int(day)).isoformat()\n",
    "\n",
    "df_br['Data'] = df_br['Data'].apply(convert_date)"
   ]
  },
  {
   "cell_type": "code",
   "execution_count": 6,
   "id": "cb70eb42",
   "metadata": {},
   "outputs": [],
   "source": [
    "make_graph(df_br, 'Data', 'Quantidade', 'MA')\\\n",
    "    .write_image(\"Covid-19_BR_Confirmados.png\", format=\"png\", width=800, height=350, scale=2)"
   ]
  },
  {
   "cell_type": "markdown",
   "id": "f6cac96e",
   "metadata": {},
   "source": [
    "## Espírito Santo"
   ]
  },
  {
   "cell_type": "code",
   "execution_count": 7,
   "id": "536e4bca",
   "metadata": {
    "scrolled": true
   },
   "outputs": [],
   "source": [
    "# Carregar o DataFrame\n",
    "url_es = 'https://bi.s3.es.gov.br/covid19/MICRODADOS.zip'\n",
    "df_es = pd.read_csv(url_es, sep = ';', encoding = 'cp1252')\\\n",
    "    .query('Classificacao == \"Confirmados\"')"
   ]
  },
  {
   "cell_type": "code",
   "execution_count": 8,
   "id": "126bfaaf",
   "metadata": {},
   "outputs": [
    {
     "data": {
      "text/html": [
       "<div>\n",
       "<style scoped>\n",
       "    .dataframe tbody tr th:only-of-type {\n",
       "        vertical-align: middle;\n",
       "    }\n",
       "\n",
       "    .dataframe tbody tr th {\n",
       "        vertical-align: top;\n",
       "    }\n",
       "\n",
       "    .dataframe thead th {\n",
       "        text-align: right;\n",
       "    }\n",
       "</style>\n",
       "<table border=\"1\" class=\"dataframe\">\n",
       "  <thead>\n",
       "    <tr style=\"text-align: right;\">\n",
       "      <th></th>\n",
       "      <th>DataNotificacao</th>\n",
       "      <th>DataCadastro</th>\n",
       "      <th>DataDiagnostico</th>\n",
       "      <th>DataColeta_RT_PCR</th>\n",
       "      <th>DataColetaTesteRapido</th>\n",
       "      <th>DataColetaSorologia</th>\n",
       "      <th>DataColetaSorologiaIGG</th>\n",
       "      <th>DataEncerramento</th>\n",
       "      <th>DataObito</th>\n",
       "      <th>Classificacao</th>\n",
       "      <th>...</th>\n",
       "      <th>ViagemInternacional</th>\n",
       "      <th>ProfissionalSaude</th>\n",
       "      <th>PossuiDeficiencia</th>\n",
       "      <th>MoradorDeRua</th>\n",
       "      <th>ResultadoRT_PCR</th>\n",
       "      <th>ResultadoTesteRapido</th>\n",
       "      <th>ResultadoSorologia</th>\n",
       "      <th>ResultadoSorologia_IGG</th>\n",
       "      <th>TipoTesteRapido</th>\n",
       "      <th>DataConfirmado</th>\n",
       "    </tr>\n",
       "  </thead>\n",
       "  <tbody>\n",
       "    <tr>\n",
       "      <th>1</th>\n",
       "      <td>2021-10-11</td>\n",
       "      <td>2021-10-11</td>\n",
       "      <td>2021-10-11</td>\n",
       "      <td>NaN</td>\n",
       "      <td>2021-10-11</td>\n",
       "      <td>NaN</td>\n",
       "      <td>NaN</td>\n",
       "      <td>NaN</td>\n",
       "      <td>NaN</td>\n",
       "      <td>Confirmados</td>\n",
       "      <td>...</td>\n",
       "      <td>Não Informado</td>\n",
       "      <td>Não</td>\n",
       "      <td>Não</td>\n",
       "      <td>Não</td>\n",
       "      <td>Não Informado</td>\n",
       "      <td>Positivo</td>\n",
       "      <td>Não Informado</td>\n",
       "      <td>Não Informado</td>\n",
       "      <td>Teste rápido Antígeno</td>\n",
       "      <td>2021-10-11</td>\n",
       "    </tr>\n",
       "    <tr>\n",
       "      <th>12</th>\n",
       "      <td>2021-10-11</td>\n",
       "      <td>2021-10-11</td>\n",
       "      <td>2021-10-04</td>\n",
       "      <td>NaN</td>\n",
       "      <td>2021-10-08</td>\n",
       "      <td>NaN</td>\n",
       "      <td>NaN</td>\n",
       "      <td>NaN</td>\n",
       "      <td>NaN</td>\n",
       "      <td>Confirmados</td>\n",
       "      <td>...</td>\n",
       "      <td>Não Informado</td>\n",
       "      <td>Não</td>\n",
       "      <td>Não</td>\n",
       "      <td>Não</td>\n",
       "      <td>Não Informado</td>\n",
       "      <td>Positivo</td>\n",
       "      <td>Não Informado</td>\n",
       "      <td>Não Informado</td>\n",
       "      <td>Teste rápido Antígeno</td>\n",
       "      <td>2021-10-08</td>\n",
       "    </tr>\n",
       "    <tr>\n",
       "      <th>17</th>\n",
       "      <td>2021-10-11</td>\n",
       "      <td>2021-10-11</td>\n",
       "      <td>2021-10-05</td>\n",
       "      <td>NaN</td>\n",
       "      <td>2021-10-11</td>\n",
       "      <td>NaN</td>\n",
       "      <td>NaN</td>\n",
       "      <td>NaN</td>\n",
       "      <td>NaN</td>\n",
       "      <td>Confirmados</td>\n",
       "      <td>...</td>\n",
       "      <td>Não</td>\n",
       "      <td>Não</td>\n",
       "      <td>Não</td>\n",
       "      <td>Não</td>\n",
       "      <td>Não Informado</td>\n",
       "      <td>Positivo</td>\n",
       "      <td>Não Informado</td>\n",
       "      <td>Não Informado</td>\n",
       "      <td>Teste rápido Antígeno</td>\n",
       "      <td>2021-10-11</td>\n",
       "    </tr>\n",
       "  </tbody>\n",
       "</table>\n",
       "<p>3 rows × 46 columns</p>\n",
       "</div>"
      ],
      "text/plain": [
       "   DataNotificacao DataCadastro DataDiagnostico DataColeta_RT_PCR  \\\n",
       "1       2021-10-11   2021-10-11      2021-10-11               NaN   \n",
       "12      2021-10-11   2021-10-11      2021-10-04               NaN   \n",
       "17      2021-10-11   2021-10-11      2021-10-05               NaN   \n",
       "\n",
       "   DataColetaTesteRapido DataColetaSorologia DataColetaSorologiaIGG  \\\n",
       "1             2021-10-11                 NaN                    NaN   \n",
       "12            2021-10-08                 NaN                    NaN   \n",
       "17            2021-10-11                 NaN                    NaN   \n",
       "\n",
       "   DataEncerramento DataObito Classificacao  ... ViagemInternacional  \\\n",
       "1               NaN       NaN   Confirmados  ...       Não Informado   \n",
       "12              NaN       NaN   Confirmados  ...       Não Informado   \n",
       "17              NaN       NaN   Confirmados  ...                 Não   \n",
       "\n",
       "   ProfissionalSaude PossuiDeficiencia MoradorDeRua ResultadoRT_PCR  \\\n",
       "1                Não               Não          Não   Não Informado   \n",
       "12               Não               Não          Não   Não Informado   \n",
       "17               Não               Não          Não   Não Informado   \n",
       "\n",
       "   ResultadoTesteRapido ResultadoSorologia ResultadoSorologia_IGG  \\\n",
       "1              Positivo      Não Informado          Não Informado   \n",
       "12             Positivo      Não Informado          Não Informado   \n",
       "17             Positivo      Não Informado          Não Informado   \n",
       "\n",
       "          TipoTesteRapido DataConfirmado  \n",
       "1   Teste rápido Antígeno     2021-10-11  \n",
       "12  Teste rápido Antígeno     2021-10-08  \n",
       "17  Teste rápido Antígeno     2021-10-11  \n",
       "\n",
       "[3 rows x 46 columns]"
      ]
     },
     "execution_count": 8,
     "metadata": {},
     "output_type": "execute_result"
    }
   ],
   "source": [
    "# Definição de data dos confirmados\n",
    "df_es['DataConfirmado'] = df_es['DataColeta_RT_PCR']\\\n",
    "    .combine_first(df_es['DataColetaTesteRapido'])\\\n",
    "    .combine_first(df_es['DataColetaSorologia'])\\\n",
    "    .combine_first(df_es['DataColetaSorologiaIGG'])\\\n",
    "    .combine_first(df_es['DataDiagnostico'])\n",
    "\n",
    "df_es.head(3)"
   ]
  },
  {
   "cell_type": "code",
   "execution_count": 9,
   "id": "40e5659d",
   "metadata": {},
   "outputs": [
    {
     "data": {
      "text/html": [
       "<div>\n",
       "<style scoped>\n",
       "    .dataframe tbody tr th:only-of-type {\n",
       "        vertical-align: middle;\n",
       "    }\n",
       "\n",
       "    .dataframe tbody tr th {\n",
       "        vertical-align: top;\n",
       "    }\n",
       "\n",
       "    .dataframe thead th {\n",
       "        text-align: right;\n",
       "    }\n",
       "</style>\n",
       "<table border=\"1\" class=\"dataframe\">\n",
       "  <thead>\n",
       "    <tr style=\"text-align: right;\">\n",
       "      <th></th>\n",
       "      <th>Data</th>\n",
       "      <th>Quantidade</th>\n",
       "    </tr>\n",
       "  </thead>\n",
       "  <tbody>\n",
       "    <tr>\n",
       "      <th>0</th>\n",
       "      <td>1980-12-02</td>\n",
       "      <td>1</td>\n",
       "    </tr>\n",
       "    <tr>\n",
       "      <th>1</th>\n",
       "      <td>2000-04-01</td>\n",
       "      <td>1</td>\n",
       "    </tr>\n",
       "    <tr>\n",
       "      <th>2</th>\n",
       "      <td>2000-12-17</td>\n",
       "      <td>1</td>\n",
       "    </tr>\n",
       "  </tbody>\n",
       "</table>\n",
       "</div>"
      ],
      "text/plain": [
       "         Data  Quantidade\n",
       "0  1980-12-02           1\n",
       "1  2000-04-01           1\n",
       "2  2000-12-17           1"
      ]
     },
     "execution_count": 9,
     "metadata": {},
     "output_type": "execute_result"
    }
   ],
   "source": [
    "df_es = df_es.groupby('DataConfirmado')\\\n",
    "    .size()\\\n",
    "    .reset_index()\\\n",
    "    .rename({'DataConfirmado': 'Data', 0: 'Quantidade'}, axis=1)\n",
    "\n",
    "df_es.head(3)"
   ]
  },
  {
   "cell_type": "code",
   "execution_count": 10,
   "id": "d1971f55",
   "metadata": {},
   "outputs": [
    {
     "data": {
      "text/html": [
       "<div>\n",
       "<style scoped>\n",
       "    .dataframe tbody tr th:only-of-type {\n",
       "        vertical-align: middle;\n",
       "    }\n",
       "\n",
       "    .dataframe tbody tr th {\n",
       "        vertical-align: top;\n",
       "    }\n",
       "\n",
       "    .dataframe thead th {\n",
       "        text-align: right;\n",
       "    }\n",
       "</style>\n",
       "<table border=\"1\" class=\"dataframe\">\n",
       "  <thead>\n",
       "    <tr style=\"text-align: right;\">\n",
       "      <th></th>\n",
       "      <th>Data</th>\n",
       "      <th>Quantidade</th>\n",
       "    </tr>\n",
       "  </thead>\n",
       "  <tbody>\n",
       "    <tr>\n",
       "      <th>22</th>\n",
       "      <td>2020-01-02</td>\n",
       "      <td>4</td>\n",
       "    </tr>\n",
       "    <tr>\n",
       "      <th>23</th>\n",
       "      <td>2020-01-04</td>\n",
       "      <td>2</td>\n",
       "    </tr>\n",
       "    <tr>\n",
       "      <th>24</th>\n",
       "      <td>2020-01-05</td>\n",
       "      <td>6</td>\n",
       "    </tr>\n",
       "  </tbody>\n",
       "</table>\n",
       "</div>"
      ],
      "text/plain": [
       "          Data  Quantidade\n",
       "22  2020-01-02           4\n",
       "23  2020-01-04           2\n",
       "24  2020-01-05           6"
      ]
     },
     "execution_count": 10,
     "metadata": {},
     "output_type": "execute_result"
    }
   ],
   "source": [
    "# Remove datas erradas\n",
    "today = date.today().isoformat()\n",
    "df_es = df_es.query('Data > \"2020-01-01\" & Data < @today ')\n",
    "df_es.head(3)"
   ]
  },
  {
   "cell_type": "code",
   "execution_count": 11,
   "id": "3666d957",
   "metadata": {},
   "outputs": [],
   "source": [
    "df_es['MA'] = df_es['Quantidade'].rolling(window=7).mean()"
   ]
  },
  {
   "cell_type": "code",
   "execution_count": 12,
   "id": "9dae7256",
   "metadata": {},
   "outputs": [],
   "source": [
    "make_graph(df_es, 'Data', 'Quantidade', 'MA')\\\n",
    "    .write_image(\"Covid-19_BR_ES_Confirmados.png\", format=\"png\", width=800, height=350, scale=2)"
   ]
  }
 ],
 "metadata": {
  "kernelspec": {
   "display_name": "Python 3 (ipykernel)",
   "language": "python",
   "name": "python3"
  },
  "language_info": {
   "codemirror_mode": {
    "name": "ipython",
    "version": 3
   },
   "file_extension": ".py",
   "mimetype": "text/x-python",
   "name": "python",
   "nbconvert_exporter": "python",
   "pygments_lexer": "ipython3",
   "version": "3.8.10"
  }
 },
 "nbformat": 4,
 "nbformat_minor": 5
}
