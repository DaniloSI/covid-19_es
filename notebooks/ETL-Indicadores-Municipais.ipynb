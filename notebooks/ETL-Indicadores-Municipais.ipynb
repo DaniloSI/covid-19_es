{
  "nbformat": 4,
  "nbformat_minor": 0,
  "metadata": {
    "colab": {
      "name": "Tratamento de Dados (Indicadores Municipais do ES).ipynb",
      "provenance": [],
      "collapsed_sections": []
    },
    "kernelspec": {
      "name": "python3",
      "display_name": "Python 3"
    }
  },
  "cells": [
    {
      "cell_type": "markdown",
      "metadata": {
        "id": "iaDXIbthxlCs"
      },
      "source": [
        "# Tratamento de Dados (Indicadores Municipais do ES)"
      ]
    },
    {
      "cell_type": "markdown",
      "metadata": {
        "id": "1Vl2HkOFx_vV"
      },
      "source": [
        "Dados obitidos através do IBGE Cidades, pelo link: https://cidades.ibge.gov.br/brasil/es/panorama"
      ]
    },
    {
      "cell_type": "code",
      "metadata": {
        "id": "Wd50bV75rUdw",
        "colab": {
          "base_uri": "https://localhost:8080/",
          "height": 34
        },
        "outputId": "d94cf861-056c-45d6-93eb-7b788d0b7636"
      },
      "source": [
        "!pip install unidecode"
      ],
      "execution_count": null,
      "outputs": [
        {
          "output_type": "stream",
          "text": [
            "Requirement already satisfied: unidecode in /usr/local/lib/python3.6/dist-packages (1.1.1)\n"
          ],
          "name": "stdout"
        }
      ]
    },
    {
      "cell_type": "code",
      "metadata": {
        "id": "nIVrXP_zp0k4"
      },
      "source": [
        "import pandas as pd\n",
        "from unidecode import unidecode"
      ],
      "execution_count": null,
      "outputs": []
    },
    {
      "cell_type": "markdown",
      "metadata": {
        "id": "xzBzqaBvxw7I"
      },
      "source": [
        "## Carrega Dados"
      ]
    },
    {
      "cell_type": "code",
      "metadata": {
        "id": "hgB1CNjjp69F"
      },
      "source": [
        "dados = pd.read_csv('ES_INDICADORES_MUNICIPAIS.csv', sep=',', encoding='UTF-8')\n",
        "dados.drop('Gentílico', axis=1, inplace=True)\n",
        "dados.drop(dados.shape[0] - 1, inplace=True)"
      ],
      "execution_count": null,
      "outputs": []
    },
    {
      "cell_type": "markdown",
      "metadata": {
        "id": "l3ROu4wTrLFA"
      },
      "source": [
        "## Renomeia Colunas"
      ]
    },
    {
      "cell_type": "code",
      "metadata": {
        "id": "tmdMRqvTqMOt"
      },
      "source": [
        "columns_names_map = {\n",
        "    'Municípios': 'Nome',\n",
        "    'Densidade demográfica': 'DensidadeDemografica',\n",
        "    'População estimada': 'PopulacaoEstimada',\n",
        "    'Salário médio mensal dos trabalhadores formais': 'SalarioMedio',\n",
        "    'Índice de Desenvolvimento Humano Municipal (IDHM)': 'IndiceDesenvolvimentoHumano',\n",
        "    'Mortalidade Infantil': 'MortalidadeInfantil',\n",
        "    'PIB per capita': 'PIBPerCapita'\n",
        "}\n",
        "\n",
        "dados.rename(columns_names_map, axis=1, inplace=True)"
      ],
      "execution_count": null,
      "outputs": []
    },
    {
      "cell_type": "markdown",
      "metadata": {
        "id": "d1Xd33s4x0FY"
      },
      "source": [
        "## Padroniza e Converte os Dados"
      ]
    },
    {
      "cell_type": "code",
      "metadata": {
        "id": "RTa-A2-6rSRe"
      },
      "source": [
        "dados['Nome'] = dados['Nome'].apply(lambda n: unidecode(n).upper())\n",
        "dados['DensidadeDemografica'] = dados['DensidadeDemografica'].apply(lambda d: float(d.replace(' hab/km²', '').replace(',', '.')))\n",
        "dados['PopulacaoEstimada'] = dados['PopulacaoEstimada'].apply(lambda p: int(p.replace(' pessoas', '')))\n",
        "dados['SalarioMedio'] = dados['SalarioMedio'].apply(lambda s: float(s.replace(' salários mínimos', '').replace(',', '.')))\n",
        "dados['IndiceDesenvolvimentoHumano'] = dados['IndiceDesenvolvimentoHumano'].apply(lambda i: float(i.replace(',', '.')))\n",
        "dados['MortalidadeInfantil'] = dados['MortalidadeInfantil'].apply(lambda m: float(m.replace(' óbitos por mil nascidos vivos', '').replace(',', '.')))\n",
        "dados['PIBPerCapita'] = dados['PIBPerCapita'].apply(lambda p: float(p.replace(' R$', '').replace(',', '.')))"
      ],
      "execution_count": null,
      "outputs": []
    },
    {
      "cell_type": "markdown",
      "metadata": {
        "id": "ly0xy3LVx6BK"
      },
      "source": [
        "## Salva os Dados em Formato CSV"
      ]
    },
    {
      "cell_type": "code",
      "metadata": {
        "id": "LDV4KEtkuc0k"
      },
      "source": [
        "dados.to_csv('ES_INDICADORES_MUNICIPAIS_CLEAN.csv', sep=',', encoding='UTF-8', index=False)"
      ],
      "execution_count": null,
      "outputs": []
    }
  ]
}